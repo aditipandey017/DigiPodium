{
 "cells": [
  {
   "cell_type": "markdown",
   "metadata": {},
   "source": [
    "- print() -> Output\n",
    "- input() -> Input"
   ]
  },
  {
   "cell_type": "code",
   "execution_count": null,
   "metadata": {},
   "outputs": [],
   "source": []
  },
  {
   "cell_type": "code",
   "execution_count": 1,
   "metadata": {},
   "outputs": [],
   "source": [
    "name= \"Aditi Pandey\"\n",
    "city= \"Lucknow\""
   ]
  },
  {
   "cell_type": "code",
   "execution_count": 2,
   "metadata": {},
   "outputs": [
    {
     "name": "stdout",
     "output_type": "stream",
     "text": [
      "Information about me:\n",
      "Aditi Pandey\n",
      "Lucknow\n"
     ]
    }
   ],
   "source": [
    "print(\"Information about me:\")\n",
    "print(name)\n",
    "print(city)"
   ]
  },
  {
   "cell_type": "code",
   "execution_count": 3,
   "metadata": {},
   "outputs": [
    {
     "name": "stdout",
     "output_type": "stream",
     "text": [
      "Information about me: Aditi Pandey Lucknow\n"
     ]
    }
   ],
   "source": [
    "print(\"Information about me:\", name, city)"
   ]
  },
  {
   "cell_type": "code",
   "execution_count": 7,
   "metadata": {},
   "outputs": [
    {
     "name": "stdout",
     "output_type": "stream",
     "text": [
      "I am Aditi Pandey and I live in city Lucknow\n"
     ]
    }
   ],
   "source": [
    "print(\"I am\", name, \"and I live in city\", city)"
   ]
  },
  {
   "cell_type": "markdown",
   "metadata": {},
   "source": [
    "#f means formatted string \n",
    "- these are special strings in python, where we prepend f before the opening quote"
   ]
  },
  {
   "cell_type": "code",
   "execution_count": 9,
   "metadata": {},
   "outputs": [
    {
     "name": "stdout",
     "output_type": "stream",
     "text": [
      "I am Aditi Pandey and I live in city Lucknow\n"
     ]
    }
   ],
   "source": [
    "print(f\"I am {name} and I live in city {city}\")"
   ]
  },
  {
   "cell_type": "code",
   "execution_count": 1,
   "metadata": {},
   "outputs": [],
   "source": [
    "n1= \"Aditi\"\n",
    "c1= \"Lucknow\"\n",
    "n2, c2= \"Akshat\", \"Kanpur\"\n",
    "n3, c3= \"Anshooman\", \"Lucknow\"\n",
    "n4, c4= \"Sia\", \"Lucknow\""
   ]
  },
  {
   "cell_type": "code",
   "execution_count": 4,
   "metadata": {},
   "outputs": [
    {
     "name": "stdout",
     "output_type": "stream",
     "text": [
      "Aditi           Lucknow\n",
      "Akshat          Kanpur\n",
      "Anshooman       Lucknow\n",
      "Sia             Lucknow\n"
     ]
    }
   ],
   "source": [
    "print(f'{n1:15} {c1}')\n",
    "print(f'{n2:15} {c2}')\n",
    "print(f'{n3:15} {c3}')\n",
    "print(f'{n4:15} {c4}')"
   ]
  },
  {
   "cell_type": "code",
   "execution_count": 5,
   "metadata": {},
   "outputs": [
    {
     "name": "stdout",
     "output_type": "stream",
     "text": [
      "          Aditi Lucknow\n",
      "         Akshat Kanpur\n",
      "      Anshooman Lucknow\n",
      "            Sia Lucknow\n"
     ]
    }
   ],
   "source": [
    "print(f'{n1:>15} {c1}')\n",
    "print(f'{n2:>15} {c2}')\n",
    "print(f'{n3:>15} {c3}')\n",
    "print(f'{n4:>15} {c4}')"
   ]
  },
  {
   "cell_type": "code",
   "execution_count": 6,
   "metadata": {},
   "outputs": [
    {
     "name": "stdout",
     "output_type": "stream",
     "text": [
      "     Aditi      Lucknow\n",
      "    Akshat      Kanpur\n",
      "   Anshooman    Lucknow\n",
      "      Sia       Lucknow\n"
     ]
    }
   ],
   "source": [
    "print(f'{n1:^15} {c1}')\n",
    "print(f'{n2:^15} {c2}')\n",
    "print(f'{n3:^15} {c3}')\n",
    "print(f'{n4:^15} {c4}')"
   ]
  },
  {
   "cell_type": "code",
   "execution_count": 10,
   "metadata": {},
   "outputs": [
    {
     "name": "stdout",
     "output_type": "stream",
     "text": [
      "Aditi\tAkshat\tAnshooman\tSia\n"
     ]
    }
   ],
   "source": [
    "print(n1,n2,n3,n4, sep='\\t')"
   ]
  },
  {
   "cell_type": "code",
   "execution_count": 11,
   "metadata": {},
   "outputs": [
    {
     "name": "stdout",
     "output_type": "stream",
     "text": [
      "Aditi\n",
      "Akshat\n",
      "Anshooman\n",
      "Sia\n"
     ]
    }
   ],
   "source": [
    "print(n1,n2,n3,n4, sep='\\n')"
   ]
  },
  {
   "cell_type": "code",
   "execution_count": 13,
   "metadata": {},
   "outputs": [
    {
     "name": "stdout",
     "output_type": "stream",
     "text": [
      "Aditi, Akshat, Anshooman, Sia\n"
     ]
    }
   ],
   "source": [
    "print(n1,n2,n3,n4, sep=', ')"
   ]
  },
  {
   "cell_type": "code",
   "execution_count": null,
   "metadata": {},
   "outputs": [],
   "source": []
  }
 ],
 "metadata": {
  "kernelspec": {
   "display_name": "base",
   "language": "python",
   "name": "python3"
  },
  "language_info": {
   "codemirror_mode": {
    "name": "ipython",
    "version": 3
   },
   "file_extension": ".py",
   "mimetype": "text/x-python",
   "name": "python",
   "nbconvert_exporter": "python",
   "pygments_lexer": "ipython3",
   "version": "3.11.4"
  },
  "orig_nbformat": 4
 },
 "nbformat": 4,
 "nbformat_minor": 2
}
