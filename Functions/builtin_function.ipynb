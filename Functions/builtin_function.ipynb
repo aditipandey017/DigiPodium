{
 "cells": [
  {
   "cell_type": "markdown",
   "metadata": {},
   "source": [
    "#Built-in Functions\n",
    "- print()\n",
    "- input()\n",
    "- type()  - used to return the type of data stored in variables\n",
    "- For casting data types\n",
    "    - int()\n",
    "    - float()\n",
    "    - bool()\n",
    "    - list()\n",
    "    - tuple()\n",
    "    - set()\n",
    "    - dictat()\n",
    "- for static\n",
    "    - len()\n",
    "    - max()\n",
    "    - min()\n",
    "    - sum()\n",
    "- Utility\n",
    "    - stored()\n",
    "    - reversed()\n",
    "    - eval()\n",
    "    - exec()\n",
    "- Operate on iterable\n",
    "    - all()\n",
    "    - any()\n",
    "    - enumerate()\n",
    "    - zip()\n",
    "    - filter()\n",
    "    - map()\n",
    "- type conversion\n",
    "    - int()\n",
    "    - float()\n",
    "    - str()"
   ]
  },
  {
   "cell_type": "code",
   "execution_count": 3,
   "metadata": {},
   "outputs": [],
   "source": [
    "x=['A','H','C','B','F','G','D','E']\n",
    "y='this is an example of string'"
   ]
  },
  {
   "cell_type": "code",
   "execution_count": 4,
   "metadata": {},
   "outputs": [
    {
     "data": {
      "text/plain": [
       "['A', 'B', 'C', 'D', 'E', 'F', 'G', 'H']"
      ]
     },
     "execution_count": 4,
     "metadata": {},
     "output_type": "execute_result"
    }
   ],
   "source": [
    "sorted(x)"
   ]
  },
  {
   "cell_type": "code",
   "execution_count": 5,
   "metadata": {},
   "outputs": [
    {
     "name": "stdout",
     "output_type": "stream",
     "text": [
      "[' ', ' ', ' ', ' ', ' ', 'a', 'a', 'e', 'e', 'f', 'g', 'h', 'i', 'i', 'i', 'l', 'm', 'n', 'n', 'o', 'p', 'r', 's', 's', 's', 't', 't', 'x']\n"
     ]
    }
   ],
   "source": [
    "print(sorted(y))"
   ]
  },
  {
   "cell_type": "code",
   "execution_count": 6,
   "metadata": {},
   "outputs": [
    {
     "data": {
      "text/plain": [
       "['H', 'G', 'F', 'E', 'D', 'C', 'B', 'A']"
      ]
     },
     "execution_count": 6,
     "metadata": {},
     "output_type": "execute_result"
    }
   ],
   "source": [
    "sorted(x, reverse=True)"
   ]
  },
  {
   "cell_type": "code",
   "execution_count": 8,
   "metadata": {},
   "outputs": [
    {
     "data": {
      "text/plain": [
       "['this', 'string', 'of', 'is', 'example', 'an']"
      ]
     },
     "execution_count": 8,
     "metadata": {},
     "output_type": "execute_result"
    }
   ],
   "source": [
    "sorted(y.split(),reverse=True)"
   ]
  },
  {
   "cell_type": "code",
   "execution_count": 11,
   "metadata": {},
   "outputs": [
    {
     "data": {
      "text/plain": [
       "['we',\n",
       " 'on',\n",
       " 'an',\n",
       " 'in',\n",
       " 'be',\n",
       " 'are',\n",
       " 'will',\n",
       " 'which',\n",
       " 'there',\n",
       " 'stuff',\n",
       " 'working',\n",
       " 'Encyclopedia']"
      ]
     },
     "execution_count": 11,
     "metadata": {},
     "output_type": "execute_result"
    }
   ],
   "source": [
    "z='we are working on an Encyclopedia in which there will be stuff'\n",
    "sorted(z.split(), key=len)"
   ]
  },
  {
   "cell_type": "code",
   "execution_count": 13,
   "metadata": {},
   "outputs": [
    {
     "data": {
      "text/plain": [
       "<reversed at 0x210166a3b20>"
      ]
     },
     "execution_count": 13,
     "metadata": {},
     "output_type": "execute_result"
    }
   ],
   "source": [
    "reversed(z)"
   ]
  },
  {
   "cell_type": "code",
   "execution_count": 14,
   "metadata": {},
   "outputs": [
    {
     "data": {
      "text/plain": [
       "['f',\n",
       " 'f',\n",
       " 'u',\n",
       " 't',\n",
       " 's',\n",
       " ' ',\n",
       " 'e',\n",
       " 'b',\n",
       " ' ',\n",
       " 'l',\n",
       " 'l',\n",
       " 'i',\n",
       " 'w',\n",
       " ' ',\n",
       " 'e',\n",
       " 'r',\n",
       " 'e',\n",
       " 'h',\n",
       " 't',\n",
       " ' ',\n",
       " 'h',\n",
       " 'c',\n",
       " 'i',\n",
       " 'h',\n",
       " 'w',\n",
       " ' ',\n",
       " 'n',\n",
       " 'i',\n",
       " ' ',\n",
       " 'a',\n",
       " 'i',\n",
       " 'd',\n",
       " 'e',\n",
       " 'p',\n",
       " 'o',\n",
       " 'l',\n",
       " 'c',\n",
       " 'y',\n",
       " 'c',\n",
       " 'n',\n",
       " 'E',\n",
       " ' ',\n",
       " 'n',\n",
       " 'a',\n",
       " ' ',\n",
       " 'n',\n",
       " 'o',\n",
       " ' ',\n",
       " 'g',\n",
       " 'n',\n",
       " 'i',\n",
       " 'k',\n",
       " 'r',\n",
       " 'o',\n",
       " 'w',\n",
       " ' ',\n",
       " 'e',\n",
       " 'r',\n",
       " 'a',\n",
       " ' ',\n",
       " 'e',\n",
       " 'w']"
      ]
     },
     "execution_count": 14,
     "metadata": {},
     "output_type": "execute_result"
    }
   ],
   "source": [
    "list(reversed(z))"
   ]
  },
  {
   "cell_type": "code",
   "execution_count": 15,
   "metadata": {},
   "outputs": [
    {
     "data": {
      "text/plain": [
       "'ffuts eb lliw ereht hcihw ni aidepolcycnE na no gnikrow era ew'"
      ]
     },
     "execution_count": 15,
     "metadata": {},
     "output_type": "execute_result"
    }
   ],
   "source": [
    "''.join(list(reversed(z)))"
   ]
  },
  {
   "cell_type": "code",
   "execution_count": 16,
   "metadata": {},
   "outputs": [
    {
     "data": {
      "text/plain": [
       "'ffuts eb lliw ereht hcihw ni aidepolcycnE na no gnikrow era ew'"
      ]
     },
     "execution_count": 16,
     "metadata": {},
     "output_type": "execute_result"
    }
   ],
   "source": [
    "z[::-1]"
   ]
  },
  {
   "cell_type": "code",
   "execution_count": 17,
   "metadata": {},
   "outputs": [
    {
     "name": "stdout",
     "output_type": "stream",
     "text": [
      "False\n"
     ]
    }
   ],
   "source": [
    "x=[0,0,0,0,0,0,1]\n",
    "print(all(x))       #all works like AND"
   ]
  },
  {
   "cell_type": "code",
   "execution_count": 19,
   "metadata": {},
   "outputs": [
    {
     "name": "stdout",
     "output_type": "stream",
     "text": [
      "True\n"
     ]
    }
   ],
   "source": [
    "x=['this','is','an','example','of','string']\n",
    "print(all(z))"
   ]
  },
  {
   "cell_type": "code",
   "execution_count": 18,
   "metadata": {},
   "outputs": [
    {
     "name": "stdout",
     "output_type": "stream",
     "text": [
      "True\n"
     ]
    }
   ],
   "source": [
    "x=[0,0,0,0,0,0,1]\n",
    "print(any(x))       #any works like OR"
   ]
  },
  {
   "cell_type": "code",
   "execution_count": 20,
   "metadata": {},
   "outputs": [
    {
     "name": "stdout",
     "output_type": "stream",
     "text": [
      "<function <lambda> at 0x0000021016C68040>\n"
     ]
    }
   ],
   "source": [
    "f=lambda i:i**2\n",
    "print(f)"
   ]
  },
  {
   "cell_type": "code",
   "execution_count": 21,
   "metadata": {},
   "outputs": [
    {
     "data": {
      "text/plain": [
       "4"
      ]
     },
     "execution_count": 21,
     "metadata": {},
     "output_type": "execute_result"
    }
   ],
   "source": [
    "f(2)"
   ]
  },
  {
   "cell_type": "code",
   "execution_count": 22,
   "metadata": {},
   "outputs": [
    {
     "data": {
      "text/plain": [
       "100"
      ]
     },
     "execution_count": 22,
     "metadata": {},
     "output_type": "execute_result"
    }
   ],
   "source": [
    "f(10)"
   ]
  },
  {
   "cell_type": "code",
   "execution_count": 23,
   "metadata": {},
   "outputs": [
    {
     "name": "stdout",
     "output_type": "stream",
     "text": [
      "40\n",
      "16\n",
      "120\n",
      "82\n",
      "22\n"
     ]
    }
   ],
   "source": [
    "f= lambda x: x**2+x+10\n",
    "print(f(5))\n",
    "print(f(2))\n",
    "print(f(10))\n",
    "print(f(8))\n",
    "print(f(3))"
   ]
  },
  {
   "cell_type": "code",
   "execution_count": 24,
   "metadata": {},
   "outputs": [
    {
     "name": "stdout",
     "output_type": "stream",
     "text": [
      "120\n",
      "166\n",
      "40\n",
      "660\n",
      "16\n",
      "2560\n",
      "52\n"
     ]
    }
   ],
   "source": [
    "data=[10,12,5,25,2,50,6]\n",
    "for val in data:\n",
    "    print(f(val))"
   ]
  },
  {
   "cell_type": "code",
   "execution_count": 25,
   "metadata": {},
   "outputs": [
    {
     "data": {
      "text/plain": [
       "[120, 166, 40, 660, 16, 2560, 52]"
      ]
     },
     "execution_count": 25,
     "metadata": {},
     "output_type": "execute_result"
    }
   ],
   "source": [
    "#map(function,iterable)\n",
    "list(map(f,data))  #lazy object"
   ]
  },
  {
   "cell_type": "code",
   "execution_count": 26,
   "metadata": {},
   "outputs": [
    {
     "name": "stdout",
     "output_type": "stream",
     "text": [
      "[1, 300, 100, 200]\n"
     ]
    }
   ],
   "source": [
    "nums=['1','300','100','200']\n",
    "clean_list= map(int,nums)\n",
    "print(list(clean_list))"
   ]
  },
  {
   "cell_type": "code",
   "execution_count": 27,
   "metadata": {},
   "outputs": [
    {
     "data": {
      "text/plain": [
       "[1, 2, 3, 4, 6, 7, 9, 8, 7, 8, 8, 4, 6, 6, 7, 8, 9]"
      ]
     },
     "execution_count": 27,
     "metadata": {},
     "output_type": "execute_result"
    }
   ],
   "source": [
    "nums=[1,2,3,4,0,0,6,7,0,9,8,7,0,8,8,0,4,0,6,0,6,7,8,0,0,9]\n",
    "list(filter(lambda i:i!=0,nums))"
   ]
  },
  {
   "cell_type": "code",
   "execution_count": 29,
   "metadata": {},
   "outputs": [
    {
     "data": {
      "text/plain": [
       "True"
      ]
     },
     "execution_count": 29,
     "metadata": {},
     "output_type": "execute_result"
    }
   ],
   "source": [
    "isinstance(x,list)"
   ]
  },
  {
   "cell_type": "code",
   "execution_count": 28,
   "metadata": {},
   "outputs": [
    {
     "data": {
      "text/plain": [
       "True"
      ]
     },
     "execution_count": 28,
     "metadata": {},
     "output_type": "execute_result"
    }
   ],
   "source": [
    "isinstance(x,(list,float))"
   ]
  },
  {
   "cell_type": "code",
   "execution_count": 30,
   "metadata": {},
   "outputs": [
    {
     "data": {
      "text/plain": [
       "False"
      ]
     },
     "execution_count": 30,
     "metadata": {},
     "output_type": "execute_result"
    }
   ],
   "source": [
    "isinstance(x,(int,float))"
   ]
  },
  {
   "cell_type": "code",
   "execution_count": null,
   "metadata": {},
   "outputs": [],
   "source": []
  }
 ],
 "metadata": {
  "kernelspec": {
   "display_name": "base",
   "language": "python",
   "name": "python3"
  },
  "language_info": {
   "codemirror_mode": {
    "name": "ipython",
    "version": 3
   },
   "file_extension": ".py",
   "mimetype": "text/x-python",
   "name": "python",
   "nbconvert_exporter": "python",
   "pygments_lexer": "ipython3",
   "version": "3.11.4"
  },
  "orig_nbformat": 4
 },
 "nbformat": 4,
 "nbformat_minor": 2
}
