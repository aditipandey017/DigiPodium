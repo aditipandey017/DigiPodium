{
 "cells": [
  {
   "cell_type": "markdown",
   "metadata": {},
   "source": [
    "## Conditions\n",
    "\n",
    "- if condition:\n",
    "   #code\n",
    "- else condition:\n",
    "   #code\n",
    "- elif condition:\n",
    "   #code\n",
    "- match value:\n",
    "   #code\n",
    "- for expression:\n",
    "   #code\n",
    "- while condition:\n",
    "   #code\n",
    "- try:\n",
    "   #code\n",
    "- except:\n",
    "   #code\n",
    "- finally:\n",
    "   #code\n",
    "- with expression:\n",
    "   #code\n",
    "- def function():\n",
    "   #code\n",
    "- class classname:\n",
    "   #code"
   ]
  },
  {
   "cell_type": "code",
   "execution_count": 7,
   "metadata": {},
   "outputs": [
    {
     "name": "stdout",
     "output_type": "stream",
     "text": [
      "X is greator than 3\n"
     ]
    }
   ],
   "source": [
    "x=10\n",
    "if x>3: print('X is greator than 3')"
   ]
  },
  {
   "cell_type": "code",
   "execution_count": null,
   "metadata": {},
   "outputs": [
    {
     "name": "stdout",
     "output_type": "stream",
     "text": [
      "X is less than x+3\n"
     ]
    }
   ],
   "source": [
    "if x>x+3: print('X is greator than x+3')\n",
    "else:print('X is less than x+3')"
   ]
  },
  {
   "cell_type": "code",
   "execution_count": 13,
   "metadata": {},
   "outputs": [
    {
     "name": "stdout",
     "output_type": "stream",
     "text": [
      "x is even\n"
     ]
    }
   ],
   "source": [
    "x=12\n",
    "print('x is even') if x%2 == 0 else print('x is odd')"
   ]
  },
  {
   "cell_type": "code",
   "execution_count": 12,
   "metadata": {},
   "outputs": [
    {
     "name": "stdout",
     "output_type": "stream",
     "text": [
      "x is equal to 10\n",
      "x is greator than 10\n"
     ]
    }
   ],
   "source": [
    "if x==5:\n",
    "    print(\"x is equal to 5\")\n",
    "if x==10:\n",
    "    print(\"x is equal to 10\")\n",
    "if x>10:\n",
    "    print(\"x is greator than 10\")\n"
   ]
  },
  {
   "cell_type": "code",
   "execution_count": 3,
   "metadata": {},
   "outputs": [
    {
     "name": "stdout",
     "output_type": "stream",
     "text": [
      " You have to pay 200.0rupees\n"
     ]
    }
   ],
   "source": [
    "weight= float(input('How much apple do you want(kg)'))\n",
    "if weight==1: price=110\n",
    "elif weight>=2 and weight<=5:price= 100*weight\n",
    "elif weight>=6: price= 80*weight\n",
    "print(f' You have to pay {price}rupees')"
   ]
  },
  {
   "cell_type": "code",
   "execution_count": 19,
   "metadata": {},
   "outputs": [
    {
     "name": "stdout",
     "output_type": "stream",
     "text": [
      "Good\n"
     ]
    }
   ],
   "source": [
    "had_lunch= input(\"Did you have lunch? (y/n)\")\n",
    "had_medicine= input(\"Did you have medicines? (y/n)\")\n",
    "if had_lunch== 'y':\n",
    "    if had_medicine== 'y':\n",
    "        print(\"Good\")\n",
    "    else:print(\"Take your medicines\")\n",
    "else:print(\"Have your lunch or die\")"
   ]
  },
  {
   "cell_type": "code",
   "execution_count": 15,
   "metadata": {},
   "outputs": [
    {
     "name": "stdout",
     "output_type": "stream",
     "text": [
      "Login Failed\n"
     ]
    }
   ],
   "source": [
    "username=input(\"Enter username\")\n",
    "password=input(\"Enter Password\")\n",
    "if username:\n",
    "    if password:\n",
    "        if username=='Alex' and password=='Alexa':\n",
    "            print(\"Login Successful\")\n",
    "        else:\n",
    "            print(\"Login Failed\")\n",
    "    else: \n",
    "        print(\"Password is Empty\")\n",
    "else: \n",
    "        print(\"Username is Empty\")"
   ]
  },
  {
   "cell_type": "code",
   "execution_count": 21,
   "metadata": {},
   "outputs": [
    {
     "name": "stdout",
     "output_type": "stream",
     "text": [
      "I have no day off\n"
     ]
    }
   ],
   "source": [
    "offday= input(\"Enter your off day:\")\n",
    "match offday:\n",
    "    case 'Sunday': \n",
    "            print('Sunday is offday')\n",
    "    case 'Monday': \n",
    "            print('Monday is offday')\n",
    "    case 'Tuesday': \n",
    "            print('Tuesday is offday')\n",
    "    case 'Wednesday': \n",
    "            print('Wednesday is offday')\n",
    "    case 'Thursday': \n",
    "            print('Thursday is offday')\n",
    "    case 'Friday': \n",
    "            print('Friday is offday')\n",
    "    case 'Saturday': \n",
    "            print('Saturday is offday')\n",
    "    case _: \n",
    "            print('I have no day off')"
   ]
  },
  {
   "cell_type": "code",
   "execution_count": 25,
   "metadata": {},
   "outputs": [
    {
     "name": "stdout",
     "output_type": "stream",
     "text": [
      "The cost of ice cream flavour {choice} is {cost}\n"
     ]
    }
   ],
   "source": [
    "choice= input(\"Enter your Choice:\")\n",
    "match choice:\n",
    "    case 'Chocolate': \n",
    "            cost=35\n",
    "    case 'Strawberry': \n",
    "            cost=20\n",
    "    case 'Vanilla': \n",
    "            cost=10\n",
    "    case 'Butterscotch': \n",
    "            cost=15\n",
    "    case 'Tooty Fruity': \n",
    "            cost=100\n",
    "print(f'The cost of ice cream flavour {choice} is {cost}')"
   ]
  },
  {
   "cell_type": "code",
   "execution_count": null,
   "metadata": {},
   "outputs": [],
   "source": []
  }
 ],
 "metadata": {
  "kernelspec": {
   "display_name": "base",
   "language": "python",
   "name": "python3"
  },
  "language_info": {
   "codemirror_mode": {
    "name": "ipython",
    "version": 3
   },
   "file_extension": ".py",
   "mimetype": "text/x-python",
   "name": "python",
   "nbconvert_exporter": "python",
   "pygments_lexer": "ipython3",
   "version": "3.11.5"
  },
  "orig_nbformat": 4
 },
 "nbformat": 4,
 "nbformat_minor": 2
}
