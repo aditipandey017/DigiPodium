{
 "cells": [
  {
   "cell_type": "markdown",
   "metadata": {},
   "source": [
    "## What to understand\n",
    "\n",
    "- class\n",
    "- object (instance)\n",
    "- constructor ( __init__ )\n",
    "- instance method\n",
    "- data class\n",
    "- inheritance\n",
    "- overriding method\n",
    "- multiple inheritance\n",
    "- operator overloading"
   ]
  },
  {
   "cell_type": "code",
   "execution_count": 1,
   "metadata": {},
   "outputs": [],
   "source": [
    "class One:\n",
    "    pass"
   ]
  },
  {
   "cell_type": "code",
   "execution_count": 4,
   "metadata": {},
   "outputs": [],
   "source": [
    "class Student:\n",
    "    rollno = 0\n",
    "    klass = 0\n",
    "    name = \"\"\n",
    "    def display(self):\n",
    "        print(\"i am a student\")"
   ]
  },
  {
   "cell_type": "code",
   "execution_count": 5,
   "metadata": {},
   "outputs": [
    {
     "name": "stdout",
     "output_type": "stream",
     "text": [
      "Help on class Student in module __main__:\n",
      "\n",
      "class Student(builtins.object)\n",
      " |  Methods defined here:\n",
      " |  \n",
      " |  display(self)\n",
      " |  \n",
      " |  ----------------------------------------------------------------------\n",
      " |  Data descriptors defined here:\n",
      " |  \n",
      " |  __dict__\n",
      " |      dictionary for instance variables (if defined)\n",
      " |  \n",
      " |  __weakref__\n",
      " |      list of weak references to the object (if defined)\n",
      " |  \n",
      " |  ----------------------------------------------------------------------\n",
      " |  Data and other attributes defined here:\n",
      " |  \n",
      " |  klass = 0\n",
      " |  \n",
      " |  name = ''\n",
      " |  \n",
      " |  rollno = 0\n",
      "\n"
     ]
    }
   ],
   "source": [
    "help(Student)"
   ]
  },
  {
   "cell_type": "code",
   "execution_count": 7,
   "metadata": {},
   "outputs": [
    {
     "name": "stdout",
     "output_type": "stream",
     "text": [
      "i am a student\n",
      "i am a student\n"
     ]
    }
   ],
   "source": [
    "s1 = Student()\n",
    "s1.name = \"Raj\"\n",
    "s1.klass = 5\n",
    "s1.rollno = 12903\n",
    "s1.display()\n",
    "\n",
    "s2 = Student()\n",
    "s2.name = \"Raju\"\n",
    "s2.klass = 5\n",
    "s2.rollno = 12904\n",
    "s2.display()\n"
   ]
  },
  {
   "cell_type": "code",
   "execution_count": 8,
   "metadata": {},
   "outputs": [],
   "source": [
    "# __method__ is called magic method (dunder method)\n",
    "class Bottle:\n",
    "    def __init__(self, material, content, capacity):\n",
    "        self.material = material # instance variable\n",
    "        self.content = content\n",
    "        self.capacity = capacity\n",
    "\n",
    "    def check(self):\n",
    "        print(f'{self.material} bottle with {self.capacity} ml of {self.content}')"
   ]
  },
  {
   "cell_type": "code",
   "execution_count": 9,
   "metadata": {},
   "outputs": [],
   "source": [
    "b1 = Bottle(\"plastic\", \"water\", 1000)\n",
    "b2 = Bottle(\"glass\", \"water\", 500)\n",
    "b3 = Bottle(\"steel\", \"water\", 2000)\n",
    "b4 = Bottle('glass', 'red wine', 1000)\n",
    "b5 = Bottle('glass', 'beer', 1000)"
   ]
  },
  {
   "cell_type": "code",
   "execution_count": 10,
   "metadata": {},
   "outputs": [
    {
     "name": "stdout",
     "output_type": "stream",
     "text": [
      "plastic water 1000\n"
     ]
    }
   ],
   "source": [
    "print(b1.material, b1.content, b1.capacity)"
   ]
  },
  {
   "cell_type": "code",
   "execution_count": 11,
   "metadata": {},
   "outputs": [
    {
     "name": "stdout",
     "output_type": "stream",
     "text": [
      "plastic bottle with 1000 ml of water\n",
      "glass bottle with 500 ml of water\n",
      "steel bottle with 2000 ml of water\n"
     ]
    }
   ],
   "source": [
    "b1.check()\n",
    "b2.check()\n",
    "b3.check()"
   ]
  },
  {
   "cell_type": "code",
   "execution_count": 12,
   "metadata": {},
   "outputs": [
    {
     "name": "stdout",
     "output_type": "stream",
     "text": [
      "glass bottle with 500 ml of Malbec\n"
     ]
    }
   ],
   "source": [
    "b2.content = 'Malbec'\n",
    "b2.check()"
   ]
  },
  {
   "cell_type": "markdown",
   "metadata": {},
   "source": [
    "Create a class calculator with following method\n",
    "\n",
    "- multiply\n",
    "- divide\n",
    "- exponent\n",
    "- add\n",
    "- subtract\n"
   ]
  },
  {
   "cell_type": "code",
   "execution_count": 14,
   "metadata": {},
   "outputs": [],
   "source": [
    "class Calc:\n",
    "    def multiply(self, a, b):\n",
    "        return a * b\n",
    "    def divide(self, a, b):\n",
    "        return a / b\n",
    "    def add(self, a, b):\n",
    "        return a + b\n",
    "    def exponent(self, a, b):\n",
    "        return a ** b\n",
    "    def subtract(self, a, b):\n",
    "        return a - b"
   ]
  },
  {
   "cell_type": "code",
   "execution_count": 15,
   "metadata": {},
   "outputs": [
    {
     "name": "stdout",
     "output_type": "stream",
     "text": [
      "30\n",
      "708\n",
      "20\n"
     ]
    }
   ],
   "source": [
    "c = Calc()\n",
    "print(c.add(10, 20))\n",
    "print(c.multiply(12,59))\n",
    "print(c.multiply(10, 2))"
   ]
  },
  {
   "cell_type": "code",
   "execution_count": 16,
   "metadata": {},
   "outputs": [],
   "source": [
    "from dataclasses import dataclass"
   ]
  },
  {
   "cell_type": "code",
   "execution_count": 17,
   "metadata": {},
   "outputs": [],
   "source": [
    "@dataclass\n",
    "class Recipe:\n",
    "    name : str\n",
    "    ingredients : list\n",
    "    instructions : str = \"no instruction\""
   ]
  },
  {
   "cell_type": "code",
   "execution_count": 18,
   "metadata": {},
   "outputs": [
    {
     "name": "stdout",
     "output_type": "stream",
     "text": [
      "Help on class Recipe in module __main__:\n",
      "\n",
      "class Recipe(builtins.object)\n",
      " |  Recipe(name: str, ingredients: list, instructions: str = 'no instruction') -> None\n",
      " |  \n",
      " |  Recipe(name: str, ingredients: list, instructions: str = 'no instruction')\n",
      " |  \n",
      " |  Methods defined here:\n",
      " |  \n",
      " |  __eq__(self, other)\n",
      " |      Return self==value.\n",
      " |  \n",
      " |  __init__(self, name: str, ingredients: list, instructions: str = 'no instruction') -> None\n",
      " |      Initialize self.  See help(type(self)) for accurate signature.\n",
      " |  \n",
      " |  __repr__(self)\n",
      " |      Return repr(self).\n",
      " |  \n",
      " |  ----------------------------------------------------------------------\n",
      " |  Data descriptors defined here:\n",
      " |  \n",
      " |  __dict__\n",
      " |      dictionary for instance variables (if defined)\n",
      " |  \n",
      " |  __weakref__\n",
      " |      list of weak references to the object (if defined)\n",
      " |  \n",
      " |  ----------------------------------------------------------------------\n",
      " |  Data and other attributes defined here:\n",
      " |  \n",
      " |  __annotations__ = {'ingredients': <class 'list'>, 'instructions': <cla...\n",
      " |  \n",
      " |  __dataclass_fields__ = {'ingredients': Field(name='ingredients',type=<...\n",
      " |  \n",
      " |  __dataclass_params__ = _DataclassParams(init=True,repr=True,eq=True,or...\n",
      " |  \n",
      " |  __hash__ = None\n",
      " |  \n",
      " |  __match_args__ = ('name', 'ingredients', 'instructions')\n",
      " |  \n",
      " |  instructions = 'no instruction'\n",
      "\n"
     ]
    }
   ],
   "source": [
    "help(Recipe)\n"
   ]
  },
  {
   "cell_type": "code",
   "execution_count": 19,
   "metadata": {},
   "outputs": [],
   "source": [
    "@dataclass\n",
    "class BottleX:\n",
    "    material : str\n",
    "    content : str\n",
    "    capacity : int\n"
   ]
  },
  {
   "cell_type": "code",
   "execution_count": 20,
   "metadata": {},
   "outputs": [
    {
     "name": "stdout",
     "output_type": "stream",
     "text": [
      "Recipe(name='Mac n cheese', ingredients=['mac', 'cheese', 'milk', 'butter'], instructions='no instruction')\n",
      "Recipe(name='Mango Shake', ingredients=['Mango', 'Milk'], instructions='Mix well')\n",
      "Mac n cheese\n"
     ]
    }
   ],
   "source": [
    "r1 = Recipe(\"Mac n cheese\",\n",
    "            [\"mac\", \"cheese\", \"milk\", \"butter\"])\n",
    "r2 = Recipe('Mango Shake',\n",
    "            ['Mango', 'Milk'],\n",
    "            instructions=\"Mix well\")\n",
    "print(r1)\n",
    "print(r2)\n",
    "print(r1.name)"
   ]
  },
  {
   "cell_type": "code",
   "execution_count": 21,
   "metadata": {},
   "outputs": [],
   "source": [
    "class Person:\n",
    "    def __init__(self, name, age) -> None:\n",
    "        self.age = age\n",
    "        self.name = name\n",
    "    \n",
    "    def info(self):\n",
    "        print('Person details')\n",
    "        print(f'Name: {self.name}')\n",
    "        print(f'Age: {self.age}')"
   ]
  },
  {
   "cell_type": "code",
   "execution_count": 22,
   "metadata": {},
   "outputs": [],
   "source": [
    "class Student(Person):\n",
    "    def __init__(self, name, age, school, klass) -> None:\n",
    "        super().__init__(name, age)\n",
    "        self.school = school\n",
    "        self.klass = klass\n"
   ]
  },
  {
   "cell_type": "code",
   "execution_count": 23,
   "metadata": {},
   "outputs": [],
   "source": [
    "class ScienceStudent(Student):\n",
    "    def __init__(self, name, age, school, klass, subjects=[]) -> None:\n",
    "        super().__init__(name, age, school, klass)\n",
    "        self.subjects = subjects"
   ]
  },
  {
   "cell_type": "code",
   "execution_count": 24,
   "metadata": {},
   "outputs": [
    {
     "name": "stdout",
     "output_type": "stream",
     "text": [
      "Person details\n",
      "Name: ajay\n",
      "Age: 15\n"
     ]
    }
   ],
   "source": [
    "sc1 = ScienceStudent(\"ajay\", 15, \"ABC inter\", 11,\n",
    "                      ['physics', 'chemistry', 'maths'])\n",
    "sc1.info()"
   ]
  },
  {
   "cell_type": "code",
   "execution_count": 25,
   "metadata": {},
   "outputs": [],
   "source": [
    "import sys\n",
    "class SuperList(list):\n",
    "    def gt(self, n):\n",
    "        return [x for x in self if x > n]\n",
    "\n",
    "    def lt(self, n):\n",
    "        return [x for x in self if x < n]\n",
    "\n",
    "    def extract(self, dtype=int):\n",
    "        return [x for x in self if isinstance(x, dtype)]\n",
    "    \n",
    "    # index\n",
    "    def index(self, __value, __start = 0, __stop = sys.maxsize) -> int:\n",
    "        if __value in self:\n",
    "            return super().index(__value, __start, __stop)"
   ]
  },
  {
   "cell_type": "code",
   "execution_count": 26,
   "metadata": {},
   "outputs": [
    {
     "name": "stdout",
     "output_type": "stream",
     "text": [
      "['a', 'b', 'c']\n",
      "[1, 2, 3, 4, 5]\n",
      "None\n"
     ]
    }
   ],
   "source": [
    "a = SuperList([1,2,3,4,5])\n",
    "a.append(10)\n",
    "a.extend([11,12,13])\n",
    "a.gt(8)\n",
    "b = SuperList([1,2,3,4,5, 'a', 'b', 'c'])\n",
    "print(b.extract(str))\n",
    "print(b.extract())\n",
    "print(b.index('be'))"
   ]
  },
  {
   "cell_type": "code",
   "execution_count": 27,
   "metadata": {},
   "outputs": [
    {
     "data": {
      "text/plain": [
       "<__main__.Bottle at 0x2878e4241d0>"
      ]
     },
     "execution_count": 27,
     "metadata": {},
     "output_type": "execute_result"
    }
   ],
   "source": [
    "b1"
   ]
  },
  {
   "cell_type": "code",
   "execution_count": 28,
   "metadata": {},
   "outputs": [
    {
     "name": "stdout",
     "output_type": "stream",
     "text": [
      "True\n",
      "False\n",
      "None\n",
      "🍾-plastic 🍾-glass 🍾-glass\n",
      "[🍾plastic(water), 🍾glass(water), 🍾steel(water), 🍾glass(red wine), 🍾glass(beer)]\n"
     ]
    }
   ],
   "source": [
    "# __method__ is called magic method (dunder method)\n",
    "class Bottle:\n",
    "    def __init__(self, material, content, capacity):\n",
    "        self.material = material # instance variable\n",
    "        self.content = content\n",
    "        self.capacity = capacity\n",
    "\n",
    "    def check(self):\n",
    "        print(f'{self.material} bottle with {self.capacity} ml of {self.content}')\n",
    "    \n",
    "    def __gt__(self, other):\n",
    "        if isinstance(other, Bottle):\n",
    "            return self.capacity > other.capacity\n",
    "        elif isinstance(other, (int, float)):\n",
    "            return self.capacity > other\n",
    "    \n",
    "    def __str__(self) -> str:\n",
    "        return f\"🍾-{self.material}\"\n",
    "    \n",
    "    def __repr__(self) -> str:\n",
    "        return f\"🍾{self.material}({self.content})\"\n",
    "\n",
    "b1 = Bottle(\"plastic\", \"water\", 1000)\n",
    "b2 = Bottle(\"glass\", \"water\", 500)\n",
    "b3 = Bottle(\"steel\", \"water\", 2000)\n",
    "b4 = Bottle('glass', 'red wine', 1000)\n",
    "b5 = Bottle('glass', 'beer', 1000)\n",
    "\n",
    "print(b1 > b2)\n",
    "print(b1 > 1500)\n",
    "print(b1 > 'a')\n",
    "print(b1, b2, b5 )\n",
    "bottles = [b1, b2, b3, b4, b5]\n",
    "print(bottles)"
   ]
  },
  {
   "cell_type": "code",
   "execution_count": null,
   "metadata": {},
   "outputs": [],
   "source": []
  }
 ],
 "metadata": {
  "kernelspec": {
   "display_name": "base",
   "language": "python",
   "name": "python3"
  },
  "language_info": {
   "codemirror_mode": {
    "name": "ipython",
    "version": 3
   },
   "file_extension": ".py",
   "mimetype": "text/x-python",
   "name": "python",
   "nbconvert_exporter": "python",
   "pygments_lexer": "ipython3",
   "version": "3.11.4"
  }
 },
 "nbformat": 4,
 "nbformat_minor": 2
}
