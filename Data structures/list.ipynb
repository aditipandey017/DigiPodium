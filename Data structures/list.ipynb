{
 "cells": [
  {
   "cell_type": "markdown",
   "metadata": {},
   "source": [
    "- create\n",
    "- indexing and slicing\n",
    "- methods\n",
    "- basic operations\n",
    "- comprehension"
   ]
  },
  {
   "cell_type": "code",
   "execution_count": 2,
   "metadata": {},
   "outputs": [],
   "source": [
    "x=[ ] #empty list\n",
    "a=[1,2,3,4] #numerical list\n",
    "b=['alex','alexa','alexis'] #text list\n",
    "c=['alex',12,'alexa',15,'alexis',10] #mixed list(heterogenous)\n",
    "d=[[1,2,3],[1,2],[2,3,4,4]] #nested list\n",
    "e=[[1,2,3],[2,3,4],[1,2,2]] #nested list (equal length)"
   ]
  },
  {
   "cell_type": "code",
   "execution_count": 6,
   "metadata": {},
   "outputs": [
    {
     "name": "stdout",
     "output_type": "stream",
     "text": [
      "[1, 1, 1, 1, 1, 1, 1, 1, 1, 1]\n",
      "[1, 2, 3, 1, 2, 3, 1, 2, 3]\n"
     ]
    }
   ],
   "source": [
    "w=[1]*10 # list duplication (repitition)\n",
    "print(w)\n",
    "\n",
    "w2=[1,2,3]*3 # list duplication (repitition)\n",
    "print(w2)"
   ]
  },
  {
   "cell_type": "code",
   "execution_count": 10,
   "metadata": {},
   "outputs": [
    {
     "name": "stdout",
     "output_type": "stream",
     "text": [
      "[1, 2, 3, 4, 5, 6]\n",
      "[[1, 2, 3], [4, 5, 6]]\n"
     ]
    }
   ],
   "source": [
    "a=[1,2,3]\n",
    "b=[4,5,6]\n",
    "c=a+b   # list concatenation\n",
    "print(c)\n",
    "\n",
    "d=[a,b] # nested list\n",
    "print(d)"
   ]
  },
  {
   "cell_type": "code",
   "execution_count": 2,
   "metadata": {},
   "outputs": [
    {
     "name": "stdout",
     "output_type": "stream",
     "text": [
      "[1, 2, 3]\n",
      "[8, 9, 10]\n",
      "[4, 5, 6, 7]\n",
      "reversed\n",
      "[10, 9, 8, 7, 6, 5, 4, 3, 2, 1]\n",
      "[1, 3, 5, 7, 9]\n",
      "[2, 4, 6, 8, 10]\n"
     ]
    }
   ],
   "source": [
    "x=[1,2,3,4,5,6,7,8,9,10]\n",
    "print(x[:3])    #first 3 elements\n",
    "print(x[-3:])   #last 3 elements\n",
    "print(x[3:-3])  #middle elements\n",
    "\n",
    "print(\"reversed\")\n",
    "print(x[::-1])\n",
    "\n",
    "print(x[::2])   #all elements with even index\n",
    "print(x[1::2])  #all elements with odd index "
   ]
  },
  {
   "cell_type": "code",
   "execution_count": 3,
   "metadata": {},
   "outputs": [
    {
     "name": "stdout",
     "output_type": "stream",
     "text": [
      "1\n",
      "10\n"
     ]
    }
   ],
   "source": [
    "print(x[0])     #first element\n",
    "print(x[-1])    #last element"
   ]
  },
  {
   "cell_type": "code",
   "execution_count": 4,
   "metadata": {},
   "outputs": [
    {
     "name": "stdout",
     "output_type": "stream",
     "text": [
      "12345678910"
     ]
    }
   ],
   "source": [
    "#traverse list\n",
    "for i in x :\n",
    "    print(i, end='')"
   ]
  },
  {
   "cell_type": "markdown",
   "metadata": {},
   "source": [
    "# methods\n",
    "- add\n",
    "    - append\n",
    "    - extend\n",
    "    - insert\n",
    "\n",
    "- remove\n",
    "    - remove\n",
    "    - pop\n",
    "    - clear\n",
    " \n",
    " - helper\n",
    "    - index\n",
    "    - count \n",
    "    - sort \n",
    "    - reverse\n",
    "    - copy"
   ]
  },
  {
   "cell_type": "code",
   "execution_count": 22,
   "metadata": {},
   "outputs": [
    {
     "name": "stdout",
     "output_type": "stream",
     "text": [
      "['The Final Empire', 'The Way of kings', 'The Final destination', 'Warbreaker']\n"
     ]
    }
   ],
   "source": [
    "books= []\n",
    "books.append(\"The Final Empire\")\n",
    "books.append(\"The Way of kings\")\n",
    "books.append(\"The Final destination\")\n",
    "books.append(\"Warbreaker\")\n",
    "print(books)"
   ]
  },
  {
   "cell_type": "code",
   "execution_count": 11,
   "metadata": {},
   "outputs": [
    {
     "name": "stdout",
     "output_type": "stream",
     "text": [
      "['The Final Empire', 'The wall of Ascension', 'The Hero of ages', 'The Way of kings', 'The Final destination', 'Warbreaker']\n"
     ]
    }
   ],
   "source": [
    "books.insert(1, 'The wall of Ascension')\n",
    "books.insert(2, 'The Hero of ages')\n",
    "print(books)"
   ]
  },
  {
   "cell_type": "code",
   "execution_count": 12,
   "metadata": {},
   "outputs": [
    {
     "name": "stdout",
     "output_type": "stream",
     "text": [
      "['Twilight Saga: New Moon', 'Twilight Saga: Eclipse', 'The Wheel of Time', 'The Great hunt']\n"
     ]
    }
   ],
   "source": [
    "crappy_books= [\n",
    "    'Twilight Saga: New Moon',\n",
    "    'Twilight Saga: Eclipse',\n",
    "    'The Wheel of Time',\n",
    "    'The Great hunt'\n",
    "    ]\n",
    "print(crappy_books)"
   ]
  },
  {
   "cell_type": "code",
   "execution_count": 13,
   "metadata": {},
   "outputs": [
    {
     "name": "stdout",
     "output_type": "stream",
     "text": [
      "['The Final Empire', 'The wall of Ascension', 'The Hero of ages', 'The Way of kings', 'The Final destination', 'Warbreaker', 'Twilight Saga: New Moon', 'Twilight Saga: Eclipse', 'The Wheel of Time', 'The Great hunt']\n"
     ]
    }
   ],
   "source": [
    "books.extend(crappy_books)\n",
    "print(books)"
   ]
  },
  {
   "cell_type": "code",
   "execution_count": 14,
   "metadata": {},
   "outputs": [
    {
     "name": "stdout",
     "output_type": "stream",
     "text": [
      "[1, 2, 3, 4, 5, 6, 7]\n"
     ]
    }
   ],
   "source": [
    "nums = [1,2,3]\n",
    "more_nums = [4,5,6,7]\n",
    "nums.extend(more_nums)\n",
    "print(nums)"
   ]
  },
  {
   "cell_type": "code",
   "execution_count": 15,
   "metadata": {},
   "outputs": [
    {
     "name": "stdout",
     "output_type": "stream",
     "text": [
      "[[1, 2, 3, 4, 5, 6, 7], [1, 2, 3, 4, 5, 6, 7], [1, 2, 3, 4, 5, 6, 7]]\n"
     ]
    }
   ],
   "source": [
    "num_matrix = [nums,nums,nums]\n",
    "print(num_matrix)"
   ]
  },
  {
   "cell_type": "code",
   "execution_count": 16,
   "metadata": {},
   "outputs": [
    {
     "name": "stdout",
     "output_type": "stream",
     "text": [
      "[1, 2, 3, 4, 5, 6, 7, 4, 5, 6, 7]\n"
     ]
    }
   ],
   "source": [
    "all_num = nums + more_nums\n",
    "print(all_num)"
   ]
  },
  {
   "cell_type": "code",
   "execution_count": 17,
   "metadata": {},
   "outputs": [
    {
     "name": "stdout",
     "output_type": "stream",
     "text": [
      "['4', '5 5 5 4 6 ', '4', '5', '5']\n"
     ]
    }
   ],
   "source": [
    "#enter a list from a user \n",
    "\n",
    "a = []\n",
    "for i in range (5):\n",
    "    x = input('enter some data:')\n",
    "    a.append(x)\n",
    "print(a)  "
   ]
  },
  {
   "cell_type": "code",
   "execution_count": 18,
   "metadata": {},
   "outputs": [
    {
     "name": "stdout",
     "output_type": "stream",
     "text": [
      "[4, 5, 6, 7, 8]\n",
      "<built-in function sum>\n"
     ]
    }
   ],
   "source": [
    "# take 5 inputs as numbers and then display the total from the user and the number in a list\n",
    " \n",
    "\n",
    "b = []\n",
    "total = 0\n",
    "for i in range (5):\n",
    "    x = int(input('enter some data:'))\n",
    "    total= total +x\n",
    "    b.append(x)\n",
    "print(b)  \n",
    "print(sum)  \n"
   ]
  },
  {
   "cell_type": "code",
   "execution_count": 19,
   "metadata": {},
   "outputs": [
    {
     "name": "stdout",
     "output_type": "stream",
     "text": [
      "['The Final Empire', 'The wall of Ascension', 'The Hero of ages', 'The Way of kings', 'The Final destination', 'Warbreaker', 'Twilight Saga: New Moon', 'Twilight Saga: Eclipse', 'The Wheel of Time', 'The Great hunt']\n"
     ]
    }
   ],
   "source": [
    "print(books)"
   ]
  },
  {
   "cell_type": "code",
   "execution_count": 24,
   "metadata": {},
   "outputs": [],
   "source": [
    "#remove data \n",
    "\n",
    "books.remove(\"The Final Empire\")\n",
    "\n",
    "#print(books)"
   ]
  },
  {
   "cell_type": "code",
   "execution_count": 27,
   "metadata": {},
   "outputs": [],
   "source": [
    "def safe_remove(val_to_remove):\n",
    "    if val_to_remove in books:\n",
    "        books.remove(val_to_remove)\n",
    "        print(f\"✅{val_to_remove} removed from list\")\n",
    "    else :\n",
    "        print(f'❌{val_to_remove} not found in list')     \n"
   ]
  },
  {
   "cell_type": "code",
   "execution_count": 30,
   "metadata": {},
   "outputs": [
    {
     "name": "stdout",
     "output_type": "stream",
     "text": [
      "❌The hero of ages not found in list\n"
     ]
    }
   ],
   "source": [
    "safe_remove('The hero of ages')"
   ]
  },
  {
   "cell_type": "code",
   "execution_count": 31,
   "metadata": {},
   "outputs": [
    {
     "name": "stdout",
     "output_type": "stream",
     "text": [
      "['aman', 'Kenery', 'abhisek', 'nakul']\n"
     ]
    }
   ],
   "source": [
    "z = ['aman','Kenery','abhisek','nakul']\n",
    "print(z)\n",
    "#pop()  #remove last element"
   ]
  },
  {
   "cell_type": "code",
   "execution_count": 32,
   "metadata": {},
   "outputs": [
    {
     "data": {
      "text/plain": [
       "'nakul'"
      ]
     },
     "execution_count": 32,
     "metadata": {},
     "output_type": "execute_result"
    }
   ],
   "source": [
    "z.pop()"
   ]
  },
  {
   "cell_type": "code",
   "execution_count": 33,
   "metadata": {},
   "outputs": [
    {
     "name": "stdout",
     "output_type": "stream",
     "text": [
      "The Final destination\n",
      "['The Way of kings', 'Warbreaker']\n"
     ]
    }
   ],
   "source": [
    "output = books.pop(1) #remove element at index 1\n",
    "print(output)\n",
    "print(books)"
   ]
  },
  {
   "cell_type": "code",
   "execution_count": 34,
   "metadata": {},
   "outputs": [
    {
     "name": "stdout",
     "output_type": "stream",
     "text": [
      "[]\n"
     ]
    }
   ],
   "source": [
    "books.clear()\n",
    "print(books)"
   ]
  },
  {
   "cell_type": "code",
   "execution_count": 35,
   "metadata": {},
   "outputs": [],
   "source": [
    "del a"
   ]
  },
  {
   "cell_type": "code",
   "execution_count": null,
   "metadata": {},
   "outputs": [],
   "source": []
  }
 ],
 "metadata": {
  "kernelspec": {
   "display_name": "base",
   "language": "python",
   "name": "python3"
  },
  "language_info": {
   "codemirror_mode": {
    "name": "ipython",
    "version": 3
   },
   "file_extension": ".py",
   "mimetype": "text/x-python",
   "name": "python",
   "nbconvert_exporter": "python",
   "pygments_lexer": "ipython3",
   "version": "3.11.4"
  },
  "orig_nbformat": 4
 },
 "nbformat": 4,
 "nbformat_minor": 2
}
