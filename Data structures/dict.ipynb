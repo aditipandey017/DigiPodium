{
 "cells": [
  {
   "cell_type": "code",
   "execution_count": 1,
   "metadata": {},
   "outputs": [],
   "source": [
    "x= {\n",
    "    'brand': \"Mahindra\",\n",
    "    'model': 'XUV',\n",
    "    'series': '500',\n",
    "    'type': \"Diesel\",\n",
    "    \"fuel capacity\": 30,\n",
    "    'mileage': 10,\n",
    "    'color': 'white',\n",
    "    'is_4wd': True,\n",
    "    'colors' : ['Red','White','Black']\n",
    "}"
   ]
  },
  {
   "cell_type": "code",
   "execution_count": 2,
   "metadata": {},
   "outputs": [],
   "source": [
    "info = {} # empty dict"
   ]
  },
  {
   "cell_type": "markdown",
   "metadata": {},
   "source": [
    "- add items\n",
    "- update items\n",
    "- remove items\n",
    "- traverse items\n",
    "\n",
    "how to add data\n",
    "```\n",
    "dict['new_key'] = new_value\n",
    "```"
   ]
  },
  {
   "cell_type": "code",
   "execution_count": 3,
   "metadata": {},
   "outputs": [
    {
     "data": {
      "text/plain": [
       "{'first_name': 'Henry'}"
      ]
     },
     "execution_count": 3,
     "metadata": {},
     "output_type": "execute_result"
    }
   ],
   "source": [
    "info['first_name'] = \"Henry\"\n",
    "info"
   ]
  },
  {
   "cell_type": "code",
   "execution_count": 4,
   "metadata": {},
   "outputs": [
    {
     "name": "stdout",
     "output_type": "stream",
     "text": [
      "{'first_name': 'Henry', 'last_name': 'Sugar', 'age': 45, 'city': 'New York'}\n"
     ]
    }
   ],
   "source": [
    "info['last_name'] = \"Sugar\"\n",
    "info['age'] = 45\n",
    "info['city'] = \"New York\"\n",
    "print(info)"
   ]
  },
  {
   "cell_type": "markdown",
   "metadata": {},
   "source": [
    "how to update data\n",
    "```\n",
    "dict['existing_key'] = new_value\n",
    "```"
   ]
  },
  {
   "cell_type": "code",
   "execution_count": 5,
   "metadata": {},
   "outputs": [
    {
     "name": "stdout",
     "output_type": "stream",
     "text": [
      "{'first_name': 'Henry', 'last_name': 'Sugar', 'age': 45, 'city': 'London'}\n"
     ]
    }
   ],
   "source": [
    "info['city'] = \"London\"\n",
    "print(info)"
   ]
  },
  {
   "cell_type": "markdown",
   "metadata": {},
   "source": [
    "how to remove data\n",
    "```\n",
    "dict.pop('existing_key')\n",
    "```"
   ]
  },
  {
   "cell_type": "code",
   "execution_count": 6,
   "metadata": {},
   "outputs": [
    {
     "data": {
      "text/plain": [
       "45"
      ]
     },
     "execution_count": 6,
     "metadata": {},
     "output_type": "execute_result"
    }
   ],
   "source": [
    "info.pop('age')"
   ]
  },
  {
   "cell_type": "code",
   "execution_count": 7,
   "metadata": {},
   "outputs": [
    {
     "data": {
      "text/plain": [
       "{'first_name': 'Henry', 'last_name': 'Sugar', 'city': 'London'}"
      ]
     },
     "execution_count": 7,
     "metadata": {},
     "output_type": "execute_result"
    }
   ],
   "source": [
    "info"
   ]
  },
  {
   "cell_type": "markdown",
   "metadata": {},
   "source": [
    "extract keys and values\n",
    "\n",
    "- dict.keys()\n",
    "- dict.values()\n",
    "- dict.items()\n"
   ]
  },
  {
   "cell_type": "code",
   "execution_count": 8,
   "metadata": {},
   "outputs": [
    {
     "data": {
      "text/plain": [
       "dict_keys(['first_name', 'last_name', 'city'])"
      ]
     },
     "execution_count": 8,
     "metadata": {},
     "output_type": "execute_result"
    }
   ],
   "source": [
    "info.keys()"
   ]
  },
  {
   "cell_type": "code",
   "execution_count": 9,
   "metadata": {},
   "outputs": [
    {
     "data": {
      "text/plain": [
       "dict_values(['Henry', 'Sugar', 'London'])"
      ]
     },
     "execution_count": 9,
     "metadata": {},
     "output_type": "execute_result"
    }
   ],
   "source": [
    "info.values()"
   ]
  },
  {
   "cell_type": "code",
   "execution_count": 10,
   "metadata": {},
   "outputs": [
    {
     "data": {
      "text/plain": [
       "dict_items([('first_name', 'Henry'), ('last_name', 'Sugar'), ('city', 'London')])"
      ]
     },
     "execution_count": 10,
     "metadata": {},
     "output_type": "execute_result"
    }
   ],
   "source": [
    "info.items()"
   ]
  },
  {
   "cell_type": "markdown",
   "metadata": {},
   "source": [
    "fetch data from dict\n",
    "\n",
    "- dict['key'] # throws error if key does not exist\n",
    "- dict.get('key') # returns None if key does not exist\n"
   ]
  },
  {
   "cell_type": "code",
   "execution_count": 11,
   "metadata": {},
   "outputs": [
    {
     "data": {
      "text/plain": [
       "'Mahindra'"
      ]
     },
     "execution_count": 11,
     "metadata": {},
     "output_type": "execute_result"
    }
   ],
   "source": [
    "x['brand']\n"
   ]
  },
  {
   "cell_type": "code",
   "execution_count": 12,
   "metadata": {},
   "outputs": [
    {
     "name": "stdout",
     "output_type": "stream",
     "text": [
      "10\n",
      "['Red', 'White', 'Black']\n"
     ]
    }
   ],
   "source": [
    "print(x['mileage'])\n",
    "print(x['colors'])\n",
    "# print(x['price']) # KeyError\n"
   ]
  },
  {
   "cell_type": "code",
   "execution_count": 13,
   "metadata": {},
   "outputs": [
    {
     "name": "stdout",
     "output_type": "stream",
     "text": [
      "Mahindra\n",
      "XUV\n",
      "['Red', 'White', 'Black']\n",
      "None\n"
     ]
    }
   ],
   "source": [
    "print(x.get('brand'))\n",
    "print(x.get('model'))\n",
    "print(x.get('colors'))\n",
    "print(x.get('price'))"
   ]
  },
  {
   "cell_type": "markdown",
   "metadata": {},
   "source": [
    "traversing a dict"
   ]
  },
  {
   "cell_type": "code",
   "execution_count": 14,
   "metadata": {},
   "outputs": [
    {
     "name": "stdout",
     "output_type": "stream",
     "text": [
      "brand\n",
      "model\n",
      "series\n",
      "type\n",
      "fuel capacity\n",
      "mileage\n",
      "color\n",
      "is_4wd\n",
      "colors\n"
     ]
    }
   ],
   "source": [
    "for i in x:\n",
    "    print(i) # prints keys"
   ]
  },
  {
   "cell_type": "code",
   "execution_count": 15,
   "metadata": {},
   "outputs": [
    {
     "name": "stdout",
     "output_type": "stream",
     "text": [
      "Mahindra\n",
      "XUV\n",
      "500\n",
      "Diesel\n",
      "30\n",
      "10\n",
      "white\n",
      "True\n",
      "['Red', 'White', 'Black']\n"
     ]
    }
   ],
   "source": [
    "for i in x:\n",
    "    print(x[i]) # prints values"
   ]
  },
  {
   "cell_type": "code",
   "execution_count": 16,
   "metadata": {},
   "outputs": [
    {
     "name": "stdout",
     "output_type": "stream",
     "text": [
      "brand Mahindra\n",
      "model XUV\n",
      "series 500\n",
      "type Diesel\n",
      "fuel capacity 30\n",
      "mileage 10\n",
      "color white\n",
      "is_4wd True\n",
      "colors ['Red', 'White', 'Black']\n"
     ]
    }
   ],
   "source": [
    "for i in x:\n",
    "    print(i, x[i]) # prints keys and values"
   ]
  },
  {
   "cell_type": "code",
   "execution_count": 17,
   "metadata": {},
   "outputs": [
    {
     "name": "stdout",
     "output_type": "stream",
     "text": [
      "brand --> Mahindra\n",
      "model --> XUV\n",
      "series --> 500\n",
      "type --> Diesel\n",
      "fuel capacity --> 30\n",
      "mileage --> 10\n",
      "color --> white\n",
      "is_4wd --> True\n",
      "colors --> ['Red', 'White', 'Black']\n"
     ]
    }
   ],
   "source": [
    "# best way to iterate over a dict\n",
    "for k, v in x.items():\n",
    "    print(k,'-->', v)"
   ]
  },
  {
   "cell_type": "code",
   "execution_count": 18,
   "metadata": {},
   "outputs": [],
   "source": [
    "data = {\n",
    "    \"sol_keys\": [],\n",
    "    \"validity_checks\": {\n",
    "        \"1219\": {\n",
    "            \"AT\": {\n",
    "                \"sol_hours_with_data\": [\n",
    "                    6,\n",
    "                    7,\n",
    "                    8,\n",
    "                    9,\n",
    "                    10,\n",
    "                    11,\n",
    "                    12\n",
    "                ],\n",
    "                \"valid\": False\n",
    "            },\n",
    "            \"HWS\": {\n",
    "                \"sol_hours_with_data\": [\n",
    "                    6,\n",
    "                    7,\n",
    "                    8,\n",
    "                    9,\n",
    "                    10,\n",
    "                    11,\n",
    "                    12\n",
    "                ],\n",
    "                \"valid\": False\n",
    "            },\n",
    "            \"PRE\": {\n",
    "                \"sol_hours_with_data\": [\n",
    "                    6,\n",
    "                    7,\n",
    "                    8,\n",
    "                    9,\n",
    "                    10,\n",
    "                    11,\n",
    "                    12\n",
    "                ],\n",
    "                \"valid\": False\n",
    "            },\n",
    "            \"WD\": {\n",
    "                \"sol_hours_with_data\": [\n",
    "                    6,\n",
    "                    7,\n",
    "                    8,\n",
    "                    9,\n",
    "                    10,\n",
    "                    11,\n",
    "                    12\n",
    "                ],\n",
    "                \"valid\": False\n",
    "            }\n",
    "        },\n",
    "        \"sol_hours_required\": 18,\n",
    "        \"sols_checked\": [\n",
    "            \"1219\"\n",
    "        ]\n",
    "    }\n",
    "}"
   ]
  },
  {
   "cell_type": "code",
   "execution_count": 19,
   "metadata": {},
   "outputs": [
    {
     "data": {
      "text/plain": [
       "{'sol_keys': [],\n",
       " 'validity_checks': {'1219': {'AT': {'sol_hours_with_data': [6,\n",
       "     7,\n",
       "     8,\n",
       "     9,\n",
       "     10,\n",
       "     11,\n",
       "     12],\n",
       "    'valid': False},\n",
       "   'HWS': {'sol_hours_with_data': [6, 7, 8, 9, 10, 11, 12], 'valid': False},\n",
       "   'PRE': {'sol_hours_with_data': [6, 7, 8, 9, 10, 11, 12], 'valid': False},\n",
       "   'WD': {'sol_hours_with_data': [6, 7, 8, 9, 10, 11, 12], 'valid': False}},\n",
       "  'sol_hours_required': 18,\n",
       "  'sols_checked': ['1219']}}"
      ]
     },
     "execution_count": 19,
     "metadata": {},
     "output_type": "execute_result"
    }
   ],
   "source": [
    "data"
   ]
  },
  {
   "cell_type": "code",
   "execution_count": 20,
   "metadata": {},
   "outputs": [
    {
     "name": "stdout",
     "output_type": "stream",
     "text": [
      "sol_keys --> []\n",
      "validity_checks --> {'1219': {'AT': {'sol_hours_with_data': [6, 7, 8, 9, 10, 11, 12], 'valid': False}, 'HWS': {'sol_hours_with_data': [6, 7, 8, 9, 10, 11, 12], 'valid': False}, 'PRE': {'sol_hours_with_data': [6, 7, 8, 9, 10, 11, 12], 'valid': False}, 'WD': {'sol_hours_with_data': [6, 7, 8, 9, 10, 11, 12], 'valid': False}}, 'sol_hours_required': 18, 'sols_checked': ['1219']}\n",
      "1219 --> {'AT': {'sol_hours_with_data': [6, 7, 8, 9, 10, 11, 12], 'valid': False}, 'HWS': {'sol_hours_with_data': [6, 7, 8, 9, 10, 11, 12], 'valid': False}, 'PRE': {'sol_hours_with_data': [6, 7, 8, 9, 10, 11, 12], 'valid': False}, 'WD': {'sol_hours_with_data': [6, 7, 8, 9, 10, 11, 12], 'valid': False}}\n",
      "AT {'sol_hours_with_data': [6, 7, 8, 9, 10, 11, 12], 'valid': False}\n",
      "HWS {'sol_hours_with_data': [6, 7, 8, 9, 10, 11, 12], 'valid': False}\n",
      "PRE {'sol_hours_with_data': [6, 7, 8, 9, 10, 11, 12], 'valid': False}\n",
      "WD {'sol_hours_with_data': [6, 7, 8, 9, 10, 11, 12], 'valid': False}\n",
      "sol_hours_required --> 18\n",
      "sols_checked --> ['1219']\n"
     ]
    }
   ],
   "source": [
    "for k, v in data.items():\n",
    "    print(k, '-->', v)\n",
    "    if isinstance(v , dict):\n",
    "        for k1, v1 in v.items():\n",
    "            print(k1, '-->', v1)\n",
    "            if isinstance(v1, dict):\n",
    "                for k2, v2 in v1.items():\n",
    "                    print(k2, v2)"
   ]
  },
  {
   "cell_type": "code",
   "execution_count": 21,
   "metadata": {},
   "outputs": [
    {
     "name": "stdout",
     "output_type": "stream",
     "text": [
      "- sol_keys\n",
      "\t []\n",
      "- validity_checks\n",
      "- 1219\n",
      "- AT\n",
      "- sol_hours_with_data\n",
      "\t [6, 7, 8, 9, 10, 11, 12]\n",
      "- valid\n",
      "\t False\n",
      "- HWS\n",
      "- sol_hours_with_data\n",
      "\t [6, 7, 8, 9, 10, 11, 12]\n",
      "- valid\n",
      "\t False\n",
      "- PRE\n",
      "- sol_hours_with_data\n",
      "\t [6, 7, 8, 9, 10, 11, 12]\n",
      "- valid\n",
      "\t False\n",
      "- WD\n",
      "- sol_hours_with_data\n",
      "\t [6, 7, 8, 9, 10, 11, 12]\n",
      "- valid\n",
      "\t False\n",
      "- sol_hours_required\n",
      "\t 18\n",
      "- sols_checked\n",
      "\t ['1219']\n"
     ]
    }
   ],
   "source": [
    "# recursive function\n",
    "def extract(d):\n",
    "    for k, v in d.items():\n",
    "        print(f\"- {k}\")\n",
    "        if isinstance(v , dict):\n",
    "            extract(v)\n",
    "        else:\n",
    "            print('\\t', v)\n",
    "\n",
    "extract(data)"
   ]
  },
  {
   "cell_type": "code",
   "execution_count": null,
   "metadata": {},
   "outputs": [],
   "source": []
  }
 ],
 "metadata": {
  "kernelspec": {
   "display_name": "base",
   "language": "python",
   "name": "python3"
  },
  "language_info": {
   "codemirror_mode": {
    "name": "ipython",
    "version": 3
   },
   "file_extension": ".py",
   "mimetype": "text/x-python",
   "name": "python",
   "nbconvert_exporter": "python",
   "pygments_lexer": "ipython3",
   "version": "3.11.4"
  }
 },
 "nbformat": 4,
 "nbformat_minor": 2
}
