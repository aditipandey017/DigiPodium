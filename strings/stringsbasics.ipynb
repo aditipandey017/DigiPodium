{
 "cells": [
  {
   "cell_type": "markdown",
   "metadata": {},
   "source": [
    "# what you need to learn?\n",
    " - create strings \n",
    " - indexing and slicing\n",
    " - string methods \n",
    "    - formatting methods \n",
    "    - validation methods\n",
    "    - utility methods \n",
    " - python built- in function for strings \n",
    "    - len()\n",
    "    - str()\n",
    "    - ord()\n",
    "    - chr()\n",
    "    - eval()"
   ]
  },
  {
   "cell_type": "code",
   "execution_count": 12,
   "metadata": {},
   "outputs": [
    {
     "name": "stdout",
     "output_type": "stream",
     "text": [
      "hello\n",
      "hello\n",
      "hello\n",
      "            My name is Aditi Pandey\n",
      "hello \n",
      "            My name is Aditi Pandey \n"
     ]
    }
   ],
   "source": [
    "my_strings = 'hello'\n",
    "print(my_strings)\n",
    "\n",
    "my_strings = \"hello\"\n",
    "print(my_strings)\n",
    "\n",
    "my_strings = '''hello\n",
    "            My name is Aditi Pandey'''\n",
    "print(my_strings)\n",
    "\n",
    "#triple quotes strings can extended multiple lines \n",
    "\n",
    "my_strings =\"\"\"hello \n",
    "            My name is Aditi Pandey \"\"\"\n",
    "print(my_strings)"
   ]
  },
  {
   "cell_type": "code",
   "execution_count": 21,
   "metadata": {},
   "outputs": [
    {
     "name": "stdout",
     "output_type": "stream",
     "text": [
      "str= digipodium\n",
      "str[0]=  d\n",
      "str[1]=  i\n",
      "str[-1]=  m\n",
      "str[-2]=  u\n"
     ]
    }
   ],
   "source": [
    "# accesing string characters in python \n",
    "\n",
    "str = 'digipodium'\n",
    "print('str=', str)\n",
    "\n",
    "#first character \n",
    "print('str[0]= ' , str[0])\n",
    "\n",
    "#second character \n",
    "print('str[1]= ' , str[1])\n",
    "\n",
    "#last character \n",
    "print('str[-1]= ' , str[-1])\n",
    "\n",
    "#second last character \n",
    "print('str[-2]= ' , str[-2])"
   ]
  },
  {
   "cell_type": "markdown",
   "metadata": {},
   "source": [
    "- string slicing = do find part of string"
   ]
  },
  {
   "cell_type": "code",
   "execution_count": 22,
   "metadata": {},
   "outputs": [
    {
     "name": "stdout",
     "output_type": "stream",
     "text": [
      "pod\n"
     ]
    }
   ],
   "source": [
    "#getting a slice \n",
    "\n",
    "s = 'digipodium'\n",
    "slice1 = s[4:7]\n",
    "print(slice1)"
   ]
  },
  {
   "cell_type": "code",
   "execution_count": 25,
   "metadata": {},
   "outputs": [],
   "source": [
    "name ='Aditi Pandey'"
   ]
  },
  {
   "cell_type": "code",
   "execution_count": 26,
   "metadata": {},
   "outputs": [
    {
     "data": {
      "text/plain": [
       "'Aditi Pand'"
      ]
     },
     "execution_count": 26,
     "metadata": {},
     "output_type": "execute_result"
    }
   ],
   "source": [
    "name[0:10] # why not 10 letters"
   ]
  },
  {
   "cell_type": "code",
   "execution_count": 32,
   "metadata": {},
   "outputs": [
    {
     "data": {
      "text/plain": [
       "'Aditi Pandey'"
      ]
     },
     "execution_count": 32,
     "metadata": {},
     "output_type": "execute_result"
    }
   ],
   "source": [
    "name[0:12]"
   ]
  },
  {
   "cell_type": "code",
   "execution_count": 29,
   "metadata": {},
   "outputs": [
    {
     "data": {
      "text/plain": [
       "'i'"
      ]
     },
     "execution_count": 29,
     "metadata": {},
     "output_type": "execute_result"
    }
   ],
   "source": [
    "name[-8:] # why:"
   ]
  },
  {
   "cell_type": "code",
   "execution_count": 30,
   "metadata": {},
   "outputs": [
    {
     "name": "stdout",
     "output_type": "stream",
     "text": [
      "35000\n",
      "35000\n"
     ]
    }
   ],
   "source": [
    "price = 'Rs.35000 only'\n",
    "\n",
    "print(int(price[3:8]))\n",
    "print(int(price[3:3+5]))"
   ]
  },
  {
   "cell_type": "code",
   "execution_count": 33,
   "metadata": {},
   "outputs": [
    {
     "name": "stdout",
     "output_type": "stream",
     "text": [
      "peare\n",
      "are\n",
      "William\n",
      "Shake\n"
     ]
    }
   ],
   "source": [
    "word = \"William Shakespeare\"\n",
    "\n",
    "print(word[-5:])\n",
    "print(word[-3:])\n",
    "print(word[0:7])\n",
    "print(word[8:13])"
   ]
  },
  {
   "cell_type": "code",
   "execution_count": 34,
   "metadata": {},
   "outputs": [
    {
     "data": {
      "text/plain": [
       "'are'"
      ]
     },
     "execution_count": 34,
     "metadata": {},
     "output_type": "execute_result"
    }
   ],
   "source": [
    "word[-3:]"
   ]
  },
  {
   "cell_type": "markdown",
   "metadata": {},
   "source": [
    "- slicing syntax\n",
    "\n",
    "\n",
    "   var[start:stop] \n",
    "   var[stat:stop:step]"
   ]
  },
  {
   "cell_type": "code",
   "execution_count": 36,
   "metadata": {},
   "outputs": [
    {
     "name": "stdout",
     "output_type": "stream",
     "text": [
      "Wli\n",
      "WlimSaepae\n"
     ]
    }
   ],
   "source": [
    "print(word[:6:2])\n",
    "print(word[::2])"
   ]
  },
  {
   "cell_type": "code",
   "execution_count": 37,
   "metadata": {},
   "outputs": [
    {
     "data": {
      "text/plain": [
       "'yednaP itidA'"
      ]
     },
     "execution_count": 37,
     "metadata": {},
     "output_type": "execute_result"
    }
   ],
   "source": [
    "#reverse a string \n",
    "\n",
    "name[::-1]"
   ]
  },
  {
   "cell_type": "code",
   "execution_count": 38,
   "metadata": {},
   "outputs": [
    {
     "data": {
      "text/plain": [
       "'eraepsekahS mailliW'"
      ]
     },
     "execution_count": 38,
     "metadata": {},
     "output_type": "execute_result"
    }
   ],
   "source": [
    "word[::-1]"
   ]
  },
  {
   "cell_type": "markdown",
   "metadata": {},
   "source": [
    "#builtin function for strings \n",
    "- chr()\n",
    "- ord()\n",
    "- len()\n",
    "- str()"
   ]
  },
  {
   "cell_type": "code",
   "execution_count": 41,
   "metadata": {},
   "outputs": [
    {
     "name": "stdout",
     "output_type": "stream",
     "text": [
      "7\n",
      "5\n"
     ]
    }
   ],
   "source": [
    "#len\n",
    "\n",
    "print(len(\"amazing\"))\n",
    "print(len(\"world\"))\n"
   ]
  },
  {
   "cell_type": "code",
   "execution_count": 43,
   "metadata": {},
   "outputs": [
    {
     "name": "stdout",
     "output_type": "stream",
     "text": [
      "4\n"
     ]
    }
   ],
   "source": [
    "size = len(\"hope\")\n",
    "print(size)"
   ]
  },
  {
   "cell_type": "code",
   "execution_count": 44,
   "metadata": {},
   "outputs": [
    {
     "data": {
      "text/plain": [
       "'hi there'"
      ]
     },
     "execution_count": 44,
     "metadata": {},
     "output_type": "execute_result"
    }
   ],
   "source": [
    "#concatination \n",
    "\n",
    "'hi'+ ' there'"
   ]
  },
  {
   "cell_type": "code",
   "execution_count": 45,
   "metadata": {},
   "outputs": [
    {
     "data": {
      "text/plain": [
       "'💊💊💊💊💊'"
      ]
     },
     "execution_count": 45,
     "metadata": {},
     "output_type": "execute_result"
    }
   ],
   "source": [
    "#duplication \n",
    "\n",
    "'💊' * 5"
   ]
  },
  {
   "cell_type": "code",
   "execution_count": 50,
   "metadata": {},
   "outputs": [
    {
     "name": "stdout",
     "output_type": "stream",
     "text": [
      "35\n"
     ]
    }
   ],
   "source": [
    "x=10\n",
    "y=25\n",
    "operation=\"x+y\"\n",
    "print(eval(operation))"
   ]
  },
  {
   "cell_type": "code",
   "execution_count": 53,
   "metadata": {},
   "outputs": [
    {
     "data": {
      "text/plain": [
       "10"
      ]
     },
     "execution_count": 53,
     "metadata": {},
     "output_type": "execute_result"
    }
   ],
   "source": [
    "op1=input(\"Enter the equation that you would like to use on x and y:\")\n",
    "eval(op1)"
   ]
  },
  {
   "cell_type": "code",
   "execution_count": null,
   "metadata": {},
   "outputs": [],
   "source": []
  }
 ],
 "metadata": {
  "kernelspec": {
   "display_name": "base",
   "language": "python",
   "name": "python3"
  },
  "language_info": {
   "codemirror_mode": {
    "name": "ipython",
    "version": 3
   },
   "file_extension": ".py",
   "mimetype": "text/x-python",
   "name": "python",
   "nbconvert_exporter": "python",
   "pygments_lexer": "ipython3",
   "version": "3.11.4"
  },
  "orig_nbformat": 4
 },
 "nbformat": 4,
 "nbformat_minor": 2
}
