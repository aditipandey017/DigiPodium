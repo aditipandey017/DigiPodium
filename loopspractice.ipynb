{
 "cells": [
  {
   "cell_type": "code",
   "execution_count": null,
   "metadata": {},
   "outputs": [],
   "source": [
    "for i in range(1,11):\n",
    "    print(i)"
   ]
  },
  {
   "cell_type": "markdown",
   "metadata": {},
   "source": []
  },
  {
   "cell_type": "code",
   "execution_count": null,
   "metadata": {},
   "outputs": [],
   "source": [
    "i=1\n",
    "n=int(input(\"Enter no. to print its table\"))\n",
    "while i<11:\n",
    "    print(f'{n}x{i}={n*i}')\n",
    "    i+=1"
   ]
  },
  {
   "cell_type": "code",
   "execution_count": null,
   "metadata": {},
   "outputs": [],
   "source": [
    "sum=0\n",
    "for i in range (0,100):\n",
    "    if(i%2==0):\n",
    "        sum+=i\n",
    "print(sum)"
   ]
  },
  {
   "cell_type": "code",
   "execution_count": 31,
   "metadata": {},
   "outputs": [
    {
     "name": "stdout",
     "output_type": "stream",
     "text": [
      "12 is NOT a prime number!\n",
      "12 is NOT a prime number!\n",
      "12 is NOT a prime number!\n",
      "12 is NOT a prime number!\n"
     ]
    }
   ],
   "source": [
    "num = int(input('Please enter a number:'))\n",
    "i = 2\n",
    "flag = 0\n",
    "while i<num:\n",
    "    if num%i == 0:\n",
    "        flag = 1\n",
    "        print (num,\"is NOT a prime number!\")\n",
    "    i = i + 1\n",
    "if flag == 0:\n",
    "    print (num,\"is a prime number!\")"
   ]
  },
  {
   "cell_type": "code",
   "execution_count": 27,
   "metadata": {},
   "outputs": [
    {
     "name": "stdout",
     "output_type": "stream",
     "text": [
      "12 is prime\n"
     ]
    }
   ],
   "source": [
    "n= int(input('enter no:'))\n",
    "c=0\n",
    "i=1\n",
    "while i<n:\n",
    "    if(n%i)==0:\n",
    "        c+=1\n",
    "    i+=1\n",
    "if(c==2):\n",
    "        print(f'{n} is not prime')\n",
    "else:\n",
    "        print(n,'is prime')"
   ]
  },
  {
   "cell_type": "code",
   "execution_count": 41,
   "metadata": {},
   "outputs": [
    {
     "name": "stdout",
     "output_type": "stream",
     "text": [
      "Factorial is 6\n"
     ]
    }
   ],
   "source": [
    "fact=1\n",
    "num= int(input('Enter no.'))\n",
    "if(num<0):\n",
    "    print('Factorial does not exist for negative numbers')\n",
    "elif(num==0):\n",
    "    print('Factorial is 1')\n",
    "for i in range(1,num+1):\n",
    "    fact*=i\n",
    "print('Factorial is',fact)\n"
   ]
  },
  {
   "cell_type": "code",
   "execution_count": null,
   "metadata": {},
   "outputs": [],
   "source": [
    "#Write a program to print the Fibonacci series up to a given limit using a while loop.\n",
    "i=1\n",
    "while i<89:\n",
    "    "
   ]
  },
  {
   "cell_type": "code",
   "execution_count": 4,
   "metadata": {},
   "outputs": [
    {
     "name": "stdout",
     "output_type": "stream",
     "text": [
      "13\n"
     ]
    }
   ],
   "source": [
    "#Write a program to find the largest element in an array using a for loop.\n",
    "a = [4,2,5,13,8,7,9,6,1]\n",
    "max_element = a[0]\n",
    "\n",
    "for i in range(len(a)):\n",
    "  if a[i] > max_element:\n",
    "     max_element = a[i]\n",
    "\n",
    "print (max_element)"
   ]
  },
  {
   "cell_type": "code",
   "execution_count": 10,
   "metadata": {},
   "outputs": [
    {
     "name": "stdout",
     "output_type": "stream",
     "text": [
      "<list_reverseiterator object at 0x0000027E1E7BA8C0>\n"
     ]
    }
   ],
   "source": [
    "# Write a program to reverse a given string using a while loop.\n",
    "s=['This is an example of string']\n",
    "print(reversed(s))\n"
   ]
  },
  {
   "cell_type": "code",
   "execution_count": 8,
   "metadata": {},
   "outputs": [
    {
     "data": {
      "text/plain": [
       "['This is an example of string']"
      ]
     },
     "execution_count": 8,
     "metadata": {},
     "output_type": "execute_result"
    }
   ],
   "source": [
    "s[::-1]"
   ]
  },
  {
   "cell_type": "code",
   "execution_count": null,
   "metadata": {},
   "outputs": [],
   "source": []
  }
 ],
 "metadata": {
  "kernelspec": {
   "display_name": "base",
   "language": "python",
   "name": "python3"
  },
  "language_info": {
   "codemirror_mode": {
    "name": "ipython",
    "version": 3
   },
   "file_extension": ".py",
   "mimetype": "text/x-python",
   "name": "python",
   "nbconvert_exporter": "python",
   "pygments_lexer": "ipython3",
   "version": "3.11.4"
  },
  "orig_nbformat": 4
 },
 "nbformat": 4,
 "nbformat_minor": 2
}
