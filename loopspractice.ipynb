{
 "cells": [
  {
   "cell_type": "code",
   "execution_count": null,
   "metadata": {},
   "outputs": [],
   "source": [
    "# Write a program to print numbers from 1 to 10 using a for loop.\n",
    "for i in range(1,11):\n",
    "    print(i)"
   ]
  },
  {
   "cell_type": "markdown",
   "metadata": {},
   "source": []
  },
  {
   "cell_type": "code",
   "execution_count": null,
   "metadata": {},
   "outputs": [],
   "source": [
    "# Write a program to print the multiplication table of a given number using a while loop.\n",
    "i=1\n",
    "n=int(input(\"Enter no. to print its table\"))\n",
    "while i<11:\n",
    "    print(f'{n}x{i}={n*i}')\n",
    "    i+=1"
   ]
  },
  {
   "cell_type": "code",
   "execution_count": 1,
   "metadata": {},
   "outputs": [
    {
     "name": "stdout",
     "output_type": "stream",
     "text": [
      "2450\n"
     ]
    }
   ],
   "source": [
    "# Write a program to find the sum of all even numbers between 1 and 100 using a for loop.\n",
    "sum=0\n",
    "for i in range (0,100):\n",
    "    if(i%2==0):\n",
    "        sum+=i\n",
    "print(sum)"
   ]
  },
  {
   "cell_type": "code",
   "execution_count": 2,
   "metadata": {},
   "outputs": [
    {
     "name": "stdout",
     "output_type": "stream",
     "text": [
      "6 is NOT a prime number!\n",
      "6 is NOT a prime number!\n",
      "6 is NOT a prime number!\n",
      "6 is NOT a prime number!\n"
     ]
    }
   ],
   "source": [
    "# Write a program to check if a given number is prime or not using a while loop.\n",
    "num = int(input('Please enter a number:'))\n",
    "i = 2\n",
    "flag = 0\n",
    "while i<num:\n",
    "    if num%i == 0:\n",
    "        flag = 1\n",
    "    print (num,\"is NOT a prime number!\")\n",
    "    i = i + 1\n",
    "if flag == 0:\n",
    "    print (num,\"is a prime number!\")"
   ]
  },
  {
   "cell_type": "code",
   "execution_count": null,
   "metadata": {},
   "outputs": [],
   "source": [
    "i=2\n",
    "n= int(input('enter no:'))\n",
    "prime=True\n",
    "while i<n:\n",
    "    if(n%i)==0:\n",
    "        prime=False\n",
    "        i+=1\n",
    "        break\n",
    "if prime:\n",
    "        print(f'{n} is prime')\n",
    "else:\n",
    "        print(n,'is not prime')"
   ]
  },
  {
   "cell_type": "code",
   "execution_count": 2,
   "metadata": {},
   "outputs": [
    {
     "name": "stdout",
     "output_type": "stream",
     "text": [
      "Factorial is 24\n"
     ]
    }
   ],
   "source": [
    "# Write a program to calculate the factorial of a number using a for loop.\n",
    "fact=1\n",
    "num= int(input('Enter no.'))\n",
    "if(num<0):\n",
    "    print('Factorial does not exist for negative numbers')\n",
    "elif(num==0):\n",
    "    print('Factorial is 1')\n",
    "for i in range(1,num+1):\n",
    "    fact*=i\n",
    "print('Factorial is',fact)\n"
   ]
  },
  {
   "cell_type": "code",
   "execution_count": null,
   "metadata": {},
   "outputs": [],
   "source": [
    "#Write a program to print the Fibonacci series up to a given limit using a while loop.\n",
    "i=1\n",
    "while i<89:\n",
    "    "
   ]
  },
  {
   "cell_type": "code",
   "execution_count": 4,
   "metadata": {},
   "outputs": [
    {
     "name": "stdout",
     "output_type": "stream",
     "text": [
      "13\n"
     ]
    }
   ],
   "source": [
    "#Write a program to find the largest element in an array using a for loop.\n",
    "a = [4,2,5,13,8,7,9,6,1]\n",
    "max_element = a[0]\n",
    "\n",
    "for i in range(len(a)):\n",
    "  if a[i] > max_element:\n",
    "     max_element = a[i]\n",
    "\n",
    "print (max_element)"
   ]
  },
  {
   "cell_type": "code",
   "execution_count": null,
   "metadata": {},
   "outputs": [
    {
     "name": "stdout",
     "output_type": "stream",
     "text": [
      "<list_reverseiterator object at 0x00000247EAFD2E30>\n"
     ]
    }
   ],
   "source": [
    "# Write a program to reverse a given string using a while loop.\n",
    "s=['This is an example of string']\n",
    "print(reversed(s))\n"
   ]
  },
  {
   "cell_type": "code",
   "execution_count": 8,
   "metadata": {},
   "outputs": [
    {
     "data": {
      "text/plain": [
       "['This is an example of string']"
      ]
     },
     "execution_count": 8,
     "metadata": {},
     "output_type": "execute_result"
    }
   ],
   "source": [
    "s[::-1]"
   ]
  },
  {
   "cell_type": "code",
   "execution_count": 7,
   "metadata": {},
   "outputs": [
    {
     "name": "stdout",
     "output_type": "stream",
     "text": [
      "ASCII value of A is 65\n",
      "ASCII value of D is 68\n",
      "ASCII value of I is 73\n",
      "ASCII value of T is 84\n",
      "ASCII value of I is 73\n"
     ]
    }
   ],
   "source": [
    "#Write a program to print the ASCII values of all uppercase letters using a for loop.\n",
    "ch=input(\"Enter a uppercase alphabet: \")\n",
    "for upper_case in ch:\n",
    "    print(\"ASCII value of\", upper_case,\"is\",ord(upper_case))"
   ]
  },
  {
   "cell_type": "code",
   "execution_count": 2,
   "metadata": {},
   "outputs": [
    {
     "name": "stdout",
     "output_type": "stream",
     "text": [
      "not a pallindrome\n"
     ]
    }
   ],
   "source": [
    "# Write a program to check if a given string is a palindrome using a while loop.\n",
    "n=input(\"Enter a number:\")\n",
    "rev=n[::-1]\n",
    "while True:\n",
    "    if n==rev:\n",
    "        print(\"pallindrome\")\n",
    "        break    \n",
    "    else: \n",
    "        print(\"not a pallindrome\")\n",
    "        break"
   ]
  },
  {
   "cell_type": "code",
   "execution_count": 3,
   "metadata": {},
   "outputs": [
    {
     "name": "stdout",
     "output_type": "stream",
     "text": [
      "5.0\n"
     ]
    }
   ],
   "source": [
    "# Write a program to calculate the average of a list of numbers using a for loop.\n",
    "list= [1,2,3,4,5,6,7,8,9]\n",
    "sum=0\n",
    "for i in list:\n",
    "        sum+=i\n",
    "        avg= sum/9\n",
    "print(avg)    "
   ]
  },
  {
   "cell_type": "code",
   "execution_count": 14,
   "metadata": {},
   "outputs": [
    {
     "name": "stdout",
     "output_type": "stream",
     "text": [
      "Sum is: 8\n"
     ]
    }
   ],
   "source": [
    "# Write a program to calculate the sum of digits of a number using a for loop.\n",
    "n=int(input(\"enter number:\"))\n",
    "sum=0\n",
    "for i in range(1,n):\n",
    "        sum = sum + (n % 10)\n",
    "        n = n//10\n",
    "print(\"Sum is:\", sum)"
   ]
  },
  {
   "cell_type": "code",
   "execution_count": 4,
   "metadata": {},
   "outputs": [
    {
     "name": "stdout",
     "output_type": "stream",
     "text": [
      "Smallest no. is 7\n"
     ]
    }
   ],
   "source": [
    "# Write a program to find the smallest element in an array using a while loop.\n",
    "a=int(input('Enter a:'))\n",
    "b=int(input('Enter b:'))\n",
    "c=int(input('Enter c:'))\n",
    "while True:\n",
    "    if a<b:\n",
    "        if a<c:\n",
    "            print('Smallest no. is',a)\n",
    "            break\n",
    "    elif b<c:\n",
    "        print('Smallest no. is',b)\n",
    "        break\n",
    "    else:\n",
    "        print('Smallest no. is',c)\n",
    "        break"
   ]
  },
  {
   "cell_type": "code",
   "execution_count": 18,
   "metadata": {},
   "outputs": [
    {
     "name": "stdout",
     "output_type": "stream",
     "text": [
      "Leap year\n"
     ]
    }
   ],
   "source": [
    "# Write a program to check if a given year is a leap year using a while loop.\n",
    "n=int(input('Enter year'))\n",
    "while True:\n",
    "    if (n%4==0)and(n%100!=0):\n",
    "        print('Leap year')\n",
    "        break\n",
    "    elif (n%400==0)and(n%100==0):\n",
    "        print('Leap year')\n",
    "        break\n",
    "    else:\n",
    "        print('Not a leap year')\n",
    "        break"
   ]
  },
  {
   "cell_type": "code",
   "execution_count": 22,
   "metadata": {},
   "outputs": [
    {
     "name": "stdout",
     "output_type": "stream",
     "text": [
      "Table for 1:\n",
      "1x1=1\n",
      "1x2=2\n",
      "1x3=3\n",
      "1x4=4\n",
      "1x5=5\n",
      "1x6=6\n",
      "1x7=7\n",
      "1x8=8\n",
      "1x9=9\n",
      "1x10=10\n",
      "Table for 2:\n",
      "2x1=2\n",
      "2x2=4\n",
      "2x3=6\n",
      "2x4=8\n",
      "2x5=10\n",
      "2x6=12\n",
      "2x7=14\n",
      "2x8=16\n",
      "2x9=18\n",
      "2x10=20\n",
      "Table for 3:\n",
      "3x1=3\n",
      "3x2=6\n",
      "3x3=9\n",
      "3x4=12\n",
      "3x5=15\n",
      "3x6=18\n",
      "3x7=21\n",
      "3x8=24\n",
      "3x9=27\n",
      "3x10=30\n",
      "Table for 4:\n",
      "4x1=4\n",
      "4x2=8\n",
      "4x3=12\n",
      "4x4=16\n",
      "4x5=20\n",
      "4x6=24\n",
      "4x7=28\n",
      "4x8=32\n",
      "4x9=36\n",
      "4x10=40\n",
      "Table for 5:\n",
      "5x1=5\n",
      "5x2=10\n",
      "5x3=15\n",
      "5x4=20\n",
      "5x5=25\n",
      "5x6=30\n",
      "5x7=35\n",
      "5x8=40\n",
      "5x9=45\n",
      "5x10=50\n"
     ]
    }
   ],
   "source": [
    "# Write a program to print the multiplication table of numbers from 1 to 5 using a for loop.\n",
    "for j in range(1,6):\n",
    "    print (f'Table for {j}:')\n",
    "    for i in range(1,11):\n",
    "        print(f'{j}x{i}={j*i}')\n"
   ]
  },
  {
   "cell_type": "code",
   "execution_count": 26,
   "metadata": {},
   "outputs": [
    {
     "name": "stdout",
     "output_type": "stream",
     "text": [
      "Factorial is: 24\n"
     ]
    }
   ],
   "source": [
    "# Write a program to find the factorial of a number using a while loop.\n",
    "n=int(input('Enter no.'))\n",
    "i=1\n",
    "fact=1\n",
    "while i<=n:\n",
    "    fact*=i\n",
    "    i+=1\n",
    "print('Factorial is:',fact)"
   ]
  },
  {
   "cell_type": "code",
   "execution_count": 32,
   "metadata": {},
   "outputs": [
    {
     "name": "stdout",
     "output_type": "stream",
     "text": [
      "Total vowels are: 8\n"
     ]
    }
   ],
   "source": [
    "# Write a program to count the number of vowels in a given string using a for loop.\n",
    "a= input('Enter string:')\n",
    "count=0\n",
    "for v in a:\n",
    "    if v=='a' or v=='e' or v=='i' or v=='o' or v=='u' or v=='A' or v=='E' or v=='I' or v=='O' or v=='U':\n",
    "        count+=1\n",
    "print(\"Total vowels are:\",count)"
   ]
  },
  {
   "cell_type": "code",
   "execution_count": 2,
   "metadata": {},
   "outputs": [
    {
     "name": "stdout",
     "output_type": "stream",
     "text": [
      "Not a Perfect square\n"
     ]
    }
   ],
   "source": [
    "# Write a program to check if a given number is a perfect square using a while loop.\n",
    "n=int(input('Enter no.'))\n",
    "sqrt=n**0.5\n",
    "while True:\n",
    "    if isinstance(sqrt,int):\n",
    "        print('Perfect square')\n",
    "        break\n",
    "    else:\n",
    "        print('Not a Perfect square')\n",
    "        break"
   ]
  },
  {
   "cell_type": "code",
   "execution_count": 2,
   "metadata": {},
   "outputs": [
    {
     "name": "stdout",
     "output_type": "stream",
     "text": [
      "5.0\n"
     ]
    }
   ],
   "source": [
    "n=25\n",
    "sqrt=n**0.5\n",
    "print(sqrt)\n",
    "# isinstance(sqrt,int)"
   ]
  },
  {
   "cell_type": "code",
   "execution_count": 35,
   "metadata": {},
   "outputs": [
    {
     "name": "stdout",
     "output_type": "stream",
     "text": [
      "Heelo how you doin'\n",
      "'niod uoy woh oleeH\n"
     ]
    }
   ],
   "source": [
    "# Write a program to reverse the order of words in a sentence using a while loop.\n",
    "a= input('Enter string:')\n",
    "while True:\n",
    "    rev=a[::-1]\n",
    "    print(a)\n",
    "    print(rev)\n",
    "    break"
   ]
  },
  {
   "cell_type": "code",
   "execution_count": 10,
   "metadata": {},
   "outputs": [
    {
     "name": "stdout",
     "output_type": "stream",
     "text": [
      "Min Element: 2\n",
      "Max Element: 13\n"
     ]
    }
   ],
   "source": [
    "# Write a program to find the largest and smallest elements in an array using a for loop.\n",
    "a = [4,2,5,13,8,7,9,6]\n",
    "max_element = a[0]\n",
    "\n",
    "for i in range(len(a)):\n",
    "    if a[i] > max_element:\n",
    "     max_element = a[i]\n",
    "    if a[i] < min_element:\n",
    "     min_element = a[i]\n",
    "\n",
    "print ('Min Element:',min_element)\n",
    "print ('Max Element:',max_element)\n"
   ]
  },
  {
   "cell_type": "code",
   "execution_count": null,
   "metadata": {},
   "outputs": [],
   "source": []
  }
 ],
 "metadata": {
  "kernelspec": {
   "display_name": "base",
   "language": "python",
   "name": "python3"
  },
  "language_info": {
   "codemirror_mode": {
    "name": "ipython",
    "version": 3
   },
   "file_extension": ".py",
   "mimetype": "text/x-python",
   "name": "python",
   "nbconvert_exporter": "python",
   "pygments_lexer": "ipython3",
   "version": "3.11.4"
  },
  "orig_nbformat": 4
 },
 "nbformat": 4,
 "nbformat_minor": 2
}
