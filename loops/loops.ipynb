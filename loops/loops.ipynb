{
 "cells": [
  {
   "cell_type": "markdown",
   "metadata": {},
   "source": [
    "Loops \n",
    "- for loop \n",
    "- loop concepts \n",
    "    - break \n",
    "    - continue \n",
    "    - else \n",
    "    - enumerate \n",
    "    - zip \n",
    "- while loop \n",
    "\n",
    "for loop syntax\n",
    "\n",
    "\n",
    "```\n",
    "for temp_var in variable\n",
    "    statement 1 \n",
    "    statement 2\n",
    "```"
   ]
  },
  {
   "cell_type": "code",
   "execution_count": 1,
   "metadata": {},
   "outputs": [
    {
     "name": "stdout",
     "output_type": "stream",
     "text": [
      "red\n",
      "green\n",
      "yellow\n",
      "blue\n",
      "white\n",
      "black\n"
     ]
    }
   ],
   "source": [
    "colors= ['red','green','yellow','blue','white','black']\n",
    "for color in colors:\n",
    "    print(color)"
   ]
  },
  {
   "cell_type": "code",
   "execution_count": 2,
   "metadata": {},
   "outputs": [
    {
     "name": "stdout",
     "output_type": "stream",
     "text": [
      "red       3 chars\n",
      "green     5 chars\n",
      "yellow    6 chars\n",
      "blue      4 chars\n",
      "white     5 chars\n",
      "black     5 chars\n"
     ]
    }
   ],
   "source": [
    "for color in colors:\n",
    "    size = len(color)\n",
    "    print(f'{color:10}{size} chars')"
   ]
  },
  {
   "cell_type": "code",
   "execution_count": 3,
   "metadata": {},
   "outputs": [
    {
     "name": "stdout",
     "output_type": "stream",
     "text": [
      "red\n",
      "green\n",
      "yellow\n",
      "blue\n",
      "white\n"
     ]
    }
   ],
   "source": [
    "for color in colors:\n",
    "    if 'e' in color:\n",
    "        print(color)"
   ]
  },
  {
   "cell_type": "code",
   "execution_count": 4,
   "metadata": {},
   "outputs": [
    {
     "name": "stdout",
     "output_type": "stream",
     "text": [
      "Alex\n",
      "\n",
      "Arin\n",
      "Charles\n",
      "\n",
      "Bella\n",
      "\n",
      "\n",
      "Rose\n"
     ]
    }
   ],
   "source": [
    "raw_data= ['Alex','','Arin','Charles','','Bella','','','Rose']\n",
    "for name in raw_data:\n",
    "    print(name)"
   ]
  },
  {
   "cell_type": "code",
   "execution_count": 5,
   "metadata": {},
   "outputs": [
    {
     "name": "stdout",
     "output_type": "stream",
     "text": [
      "Alex\n",
      "Arin\n",
      "Charles\n",
      "Bella\n",
      "Rose\n"
     ]
    }
   ],
   "source": [
    "for name in raw_data:\n",
    "    if len(name)>0:\n",
    "        print(name)"
   ]
  },
  {
   "cell_type": "code",
   "execution_count": 6,
   "metadata": {},
   "outputs": [
    {
     "name": "stdout",
     "output_type": "stream",
     "text": [
      "Alex\n",
      "Arin\n",
      "Charles\n",
      "Bella\n",
      "Rose\n"
     ]
    }
   ],
   "source": [
    "for name in raw_data:\n",
    "    if not name:\n",
    "        continue #continue is for skip blank\n",
    "    print(name)"
   ]
  },
  {
   "cell_type": "code",
   "execution_count": 7,
   "metadata": {},
   "outputs": [
    {
     "name": "stdout",
     "output_type": "stream",
     "text": [
      "2\n",
      "26\n",
      "58\n",
      "74\n",
      "56\n"
     ]
    }
   ],
   "source": [
    "numbers = [2,26,58,74,56,89,52,65,88]\n",
    "for i in numbers:\n",
    "    if i % 2 != 0:\n",
    "       break\n",
    "    print(i)"
   ]
  },
  {
   "cell_type": "code",
   "execution_count": 8,
   "metadata": {},
   "outputs": [],
   "source": [
    "raw_data= ['Alex','','Arin','Charles','','Bella','','','Rose']\n",
    "roll_no = [2001,2002,2003,2004,'']"
   ]
  },
  {
   "cell_type": "code",
   "execution_count": 9,
   "metadata": {},
   "outputs": [
    {
     "name": "stdout",
     "output_type": "stream",
     "text": [
      "2\n",
      "52\n",
      "3016\n",
      "223184\n",
      "12498304\n",
      "1112349056\n",
      "57842150912\n",
      "3759739809280\n",
      "330857103216640\n"
     ]
    }
   ],
   "source": [
    "total = 1 \n",
    "for i in numbers :\n",
    "    total*=i\n",
    "    print(total)"
   ]
  },
  {
   "cell_type": "code",
   "execution_count": 10,
   "metadata": {},
   "outputs": [
    {
     "name": "stdout",
     "output_type": "stream",
     "text": [
      "330857103216640\n"
     ]
    }
   ],
   "source": [
    "#for fianl value \n",
    "total = 1 \n",
    "for i in numbers :\n",
    "    total*=i\n",
    "print(total)"
   ]
  },
  {
   "cell_type": "code",
   "execution_count": 11,
   "metadata": {},
   "outputs": [
    {
     "name": "stdout",
     "output_type": "stream",
     "text": [
      "T\n",
      "h\n",
      "i\n",
      "s\n",
      " \n",
      "i\n",
      "s\n",
      " \n",
      "a\n",
      " \n",
      "s\n",
      "i\n",
      "m\n",
      "p\n",
      "l\n",
      "e\n",
      " \n",
      "m\n",
      "e\n",
      "s\n",
      "s\n",
      "a\n",
      "g\n",
      "e\n",
      " \n",
      "w\n",
      "i\n",
      "t\n",
      "h\n",
      " \n",
      "f\n",
      "e\n",
      "w\n",
      " \n",
      "w\n",
      "o\n",
      "r\n",
      "d\n",
      "s\n"
     ]
    }
   ],
   "source": [
    "msg = 'This is a simple message with few words'\n",
    "#count the no. of spaces using loops\n",
    "for char in msg:\n",
    "    print(char)"
   ]
  },
  {
   "cell_type": "code",
   "execution_count": 14,
   "metadata": {},
   "outputs": [
    {
     "name": "stdout",
     "output_type": "stream",
     "text": [
      "7 spaces found\n"
     ]
    }
   ],
   "source": [
    "msg = 'This is a simple message with few words'\n",
    "#count the no. of spaces using loops\n",
    "count = 0 \n",
    "for char in msg:\n",
    "    if char == ' ':\n",
    "        count += 1\n",
    "print(f'{count} spaces found')"
   ]
  },
  {
   "cell_type": "code",
   "execution_count": 15,
   "metadata": {},
   "outputs": [
    {
     "data": {
      "text/plain": [
       "7"
      ]
     },
     "execution_count": 15,
     "metadata": {},
     "output_type": "execute_result"
    }
   ],
   "source": [
    "msg.count(' ')"
   ]
  },
  {
   "cell_type": "code",
   "execution_count": 16,
   "metadata": {},
   "outputs": [
    {
     "name": "stdout",
     "output_type": "stream",
     "text": [
      "the final empire\n",
      "the well of ghost\n",
      "the hero of ages\n"
     ]
    }
   ],
   "source": [
    "books = ['the final empire','the well of ghost','the hero of ages']\n",
    "for book in books:\n",
    "    print(book)"
   ]
  },
  {
   "cell_type": "code",
   "execution_count": 17,
   "metadata": {},
   "outputs": [
    {
     "name": "stdout",
     "output_type": "stream",
     "text": [
      "0 the final empire\n",
      "1 the well of ghost\n",
      "2 the hero of ages\n"
     ]
    }
   ],
   "source": [
    "#worst way\n",
    "idx = 0 \n",
    "for book in books:\n",
    "    print(f'{idx} {book}')\n",
    "    idx += 1"
   ]
  },
  {
   "cell_type": "code",
   "execution_count": 18,
   "metadata": {},
   "outputs": [
    {
     "name": "stdout",
     "output_type": "stream",
     "text": [
      "0 the final empire\n",
      "1 the well of ghost\n",
      "2 the hero of ages\n"
     ]
    }
   ],
   "source": [
    "# better way\n",
    "for i in range(len(books)) :\n",
    "\n",
    "    print(f\"{i} {books[i]}\")"
   ]
  },
  {
   "cell_type": "code",
   "execution_count": 19,
   "metadata": {},
   "outputs": [
    {
     "name": "stdout",
     "output_type": "stream",
     "text": [
      "0 the final empire\n",
      "1 the well of ghost\n",
      "2 the hero of ages\n"
     ]
    }
   ],
   "source": [
    "#pythonic code \n",
    "for idx , book in enumerate (books):\n",
    "    print(f\"{idx} {book}\")"
   ]
  },
  {
   "cell_type": "code",
   "execution_count": 20,
   "metadata": {},
   "outputs": [
    {
     "name": "stdout",
     "output_type": "stream",
     "text": [
      "alex\n",
      "Arin\n",
      "Charles\n",
      "Bella\n",
      "Rose\n"
     ]
    }
   ],
   "source": [
    "names = ['alex','Arin','Charles','Bella','Rose','charlie']\n",
    "\n",
    "for i, name in enumerate (names):\n",
    "    \n",
    "    if i == 5: break\n",
    "    print(name)"
   ]
  },
  {
   "cell_type": "code",
   "execution_count": null,
   "metadata": {},
   "outputs": [],
   "source": []
  }
 ],
 "metadata": {
  "kernelspec": {
   "display_name": "base",
   "language": "python",
   "name": "python3"
  },
  "language_info": {
   "codemirror_mode": {
    "name": "ipython",
    "version": 3
   },
   "file_extension": ".py",
   "mimetype": "text/x-python",
   "name": "python",
   "nbconvert_exporter": "python",
   "pygments_lexer": "ipython3",
   "version": "3.11.4"
  },
  "orig_nbformat": 4
 },
 "nbformat": 4,
 "nbformat_minor": 2
}
